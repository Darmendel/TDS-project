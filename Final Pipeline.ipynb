{
 "cells": [
  {
   "cell_type": "markdown",
   "metadata": {},
   "source": [
    "# Analysis of Austin Animal Center Shelter Outcome dataset\n",
    "Trying to model the outcomes of animals at the Austin Animal Center Shelter, using the [Austin Animal Center Shelter Income and Outcome dataset (Kaggle).](https://www.kaggle.com/datasets/aaronschlegel/austin-animal-center-shelter-intakes-and-outcomes) <br>"
   ]
  },
  {
   "cell_type": "markdown",
   "metadata": {},
   "source": [
    "By Dar Mendelowitz"
   ]
  },
  {
   "cell_type": "markdown",
   "metadata": {},
   "source": [
    "## Imports"
   ]
  },
  {
   "cell_type": "code",
   "execution_count": 60,
   "metadata": {},
   "outputs": [],
   "source": [
    "# Data processing\n",
    "import pandas as pd\n",
    "import numpy as np\n",
    "\n",
    "# Statistics\n",
    "from scipy.stats import chi2_contingency\n",
    "\n",
    "# Data visualizations\n",
    "import seaborn as sns\n",
    "import matplotlib.pyplot as plt\n",
    "%matplotlib inline\n",
    "\n",
    "# Machine learning library\n",
    "import sklearn\n",
    "from sklearn.preprocessing import LabelEncoder, StandardScaler, OneHotEncoder\n",
    "from sklearn.feature_extraction import FeatureHasher\n",
    "from sklearn.ensemble import RandomForestClassifier, AdaBoostClassifier\n",
    "from sklearn.linear_model import LogisticRegression\n",
    "from sklearn.decomposition import PCA\n",
    "from sklearn.model_selection import train_test_split, cross_val_score\n",
    "from sklearn.metrics import accuracy_score, confusion_matrix, classification_report\n",
    "from xgboost import XGBClassifier\n",
    "# import shap\n",
    "\n",
    "# Helper functions\n",
    "from utils import print_animal_count, convert_to_years\n",
    "from utils import get_top_k, set_top_k_colors, sort_colors, set_top_k_breeds\n",
    "from missing_values import print_animal_ids, get_missing_animal_ids, get_existing_animal_ids_in_dataset\n",
    "from missing_values import filter_null_values, update_column\n",
    "from train_model import fit_and_predict\n",
    "\n",
    "import warnings\n",
    "warnings.filterwarnings(\"ignore\")"
   ]
  },
  {
   "cell_type": "markdown",
   "metadata": {},
   "source": [
    "## Loading the Austin Animal Center Shelter Outcome dataset"
   ]
  },
  {
   "cell_type": "code",
   "execution_count": 61,
   "metadata": {},
   "outputs": [],
   "source": [
    "# Loading the CSV dataset\n",
    "df_in_out = pd.read_csv(\"./data/aac_intakes_outcomes.csv\")\n",
    "df_in = pd.read_csv(\"./data/aac_intakes.csv\")\n",
    "df_out = pd.read_csv(\"./data/aac_outcomes.csv\")\n",
    "dtf = df_out\n",
    "\n",
    "# Defining the columns\n",
    "cols = ['age_upon_outcome', 'animal_id', 'animal_type', 'breed', 'color', 'date_of_birth', 'datetime',\n",
    "        'monthyear', 'name', 'outcome_subtype', 'outcome_type', 'sex_upon_outcome']\n",
    "dtf = dtf[cols]"
   ]
  },
  {
   "cell_type": "code",
   "execution_count": 62,
   "metadata": {},
   "outputs": [
    {
     "data": {
      "text/html": [
       "<div>\n",
       "<style scoped>\n",
       "    .dataframe tbody tr th:only-of-type {\n",
       "        vertical-align: middle;\n",
       "    }\n",
       "\n",
       "    .dataframe tbody tr th {\n",
       "        vertical-align: top;\n",
       "    }\n",
       "\n",
       "    .dataframe thead th {\n",
       "        text-align: right;\n",
       "    }\n",
       "</style>\n",
       "<table border=\"1\" class=\"dataframe\">\n",
       "  <thead>\n",
       "    <tr style=\"text-align: right;\">\n",
       "      <th></th>\n",
       "      <th>age_upon_outcome</th>\n",
       "      <th>animal_id</th>\n",
       "      <th>animal_type</th>\n",
       "      <th>breed</th>\n",
       "      <th>color</th>\n",
       "      <th>date_of_birth</th>\n",
       "      <th>datetime</th>\n",
       "      <th>monthyear</th>\n",
       "      <th>name</th>\n",
       "      <th>outcome_subtype</th>\n",
       "      <th>outcome_type</th>\n",
       "      <th>sex_upon_outcome</th>\n",
       "    </tr>\n",
       "  </thead>\n",
       "  <tbody>\n",
       "    <tr>\n",
       "      <th>0</th>\n",
       "      <td>2 weeks</td>\n",
       "      <td>A684346</td>\n",
       "      <td>Cat</td>\n",
       "      <td>Domestic Shorthair Mix</td>\n",
       "      <td>Orange Tabby</td>\n",
       "      <td>2014-07-07T00:00:00</td>\n",
       "      <td>2014-07-22T16:04:00</td>\n",
       "      <td>2014-07-22T16:04:00</td>\n",
       "      <td>NaN</td>\n",
       "      <td>Partner</td>\n",
       "      <td>Transfer</td>\n",
       "      <td>Intact Male</td>\n",
       "    </tr>\n",
       "    <tr>\n",
       "      <th>1</th>\n",
       "      <td>1 year</td>\n",
       "      <td>A666430</td>\n",
       "      <td>Dog</td>\n",
       "      <td>Beagle Mix</td>\n",
       "      <td>White/Brown</td>\n",
       "      <td>2012-11-06T00:00:00</td>\n",
       "      <td>2013-11-07T11:47:00</td>\n",
       "      <td>2013-11-07T11:47:00</td>\n",
       "      <td>Lucy</td>\n",
       "      <td>Partner</td>\n",
       "      <td>Transfer</td>\n",
       "      <td>Spayed Female</td>\n",
       "    </tr>\n",
       "    <tr>\n",
       "      <th>2</th>\n",
       "      <td>1 year</td>\n",
       "      <td>A675708</td>\n",
       "      <td>Dog</td>\n",
       "      <td>Pit Bull</td>\n",
       "      <td>Blue/White</td>\n",
       "      <td>2013-03-31T00:00:00</td>\n",
       "      <td>2014-06-03T14:20:00</td>\n",
       "      <td>2014-06-03T14:20:00</td>\n",
       "      <td>*Johnny</td>\n",
       "      <td>NaN</td>\n",
       "      <td>Adoption</td>\n",
       "      <td>Neutered Male</td>\n",
       "    </tr>\n",
       "    <tr>\n",
       "      <th>3</th>\n",
       "      <td>9 years</td>\n",
       "      <td>A680386</td>\n",
       "      <td>Dog</td>\n",
       "      <td>Miniature Schnauzer Mix</td>\n",
       "      <td>White</td>\n",
       "      <td>2005-06-02T00:00:00</td>\n",
       "      <td>2014-06-15T15:50:00</td>\n",
       "      <td>2014-06-15T15:50:00</td>\n",
       "      <td>Monday</td>\n",
       "      <td>Partner</td>\n",
       "      <td>Transfer</td>\n",
       "      <td>Neutered Male</td>\n",
       "    </tr>\n",
       "    <tr>\n",
       "      <th>4</th>\n",
       "      <td>5 months</td>\n",
       "      <td>A683115</td>\n",
       "      <td>Other</td>\n",
       "      <td>Bat Mix</td>\n",
       "      <td>Brown</td>\n",
       "      <td>2014-01-07T00:00:00</td>\n",
       "      <td>2014-07-07T14:04:00</td>\n",
       "      <td>2014-07-07T14:04:00</td>\n",
       "      <td>NaN</td>\n",
       "      <td>Rabies Risk</td>\n",
       "      <td>Euthanasia</td>\n",
       "      <td>Unknown</td>\n",
       "    </tr>\n",
       "  </tbody>\n",
       "</table>\n",
       "</div>"
      ],
      "text/plain": [
       "  age_upon_outcome animal_id animal_type                    breed  \\\n",
       "0          2 weeks   A684346         Cat   Domestic Shorthair Mix   \n",
       "1           1 year   A666430         Dog               Beagle Mix   \n",
       "2           1 year   A675708         Dog                 Pit Bull   \n",
       "3          9 years   A680386         Dog  Miniature Schnauzer Mix   \n",
       "4         5 months   A683115       Other                  Bat Mix   \n",
       "\n",
       "          color        date_of_birth             datetime  \\\n",
       "0  Orange Tabby  2014-07-07T00:00:00  2014-07-22T16:04:00   \n",
       "1   White/Brown  2012-11-06T00:00:00  2013-11-07T11:47:00   \n",
       "2    Blue/White  2013-03-31T00:00:00  2014-06-03T14:20:00   \n",
       "3         White  2005-06-02T00:00:00  2014-06-15T15:50:00   \n",
       "4         Brown  2014-01-07T00:00:00  2014-07-07T14:04:00   \n",
       "\n",
       "             monthyear     name outcome_subtype outcome_type sex_upon_outcome  \n",
       "0  2014-07-22T16:04:00      NaN         Partner     Transfer      Intact Male  \n",
       "1  2013-11-07T11:47:00     Lucy         Partner     Transfer    Spayed Female  \n",
       "2  2014-06-03T14:20:00  *Johnny             NaN     Adoption    Neutered Male  \n",
       "3  2014-06-15T15:50:00   Monday         Partner     Transfer    Neutered Male  \n",
       "4  2014-07-07T14:04:00      NaN     Rabies Risk   Euthanasia          Unknown  "
      ]
     },
     "execution_count": 62,
     "metadata": {},
     "output_type": "execute_result"
    }
   ],
   "source": [
    "dtf.head()"
   ]
  },
  {
   "cell_type": "code",
   "execution_count": 63,
   "metadata": {},
   "outputs": [
    {
     "data": {
      "text/html": [
       "<div>\n",
       "<style scoped>\n",
       "    .dataframe tbody tr th:only-of-type {\n",
       "        vertical-align: middle;\n",
       "    }\n",
       "\n",
       "    .dataframe tbody tr th {\n",
       "        vertical-align: top;\n",
       "    }\n",
       "\n",
       "    .dataframe thead th {\n",
       "        text-align: right;\n",
       "    }\n",
       "</style>\n",
       "<table border=\"1\" class=\"dataframe\">\n",
       "  <thead>\n",
       "    <tr style=\"text-align: right;\">\n",
       "      <th></th>\n",
       "      <th>age_upon_outcome</th>\n",
       "      <th>animal_id</th>\n",
       "      <th>animal_type</th>\n",
       "      <th>breed</th>\n",
       "      <th>color</th>\n",
       "      <th>date_of_birth</th>\n",
       "      <th>datetime</th>\n",
       "      <th>monthyear</th>\n",
       "      <th>name</th>\n",
       "      <th>outcome_subtype</th>\n",
       "      <th>outcome_type</th>\n",
       "      <th>sex_upon_outcome</th>\n",
       "    </tr>\n",
       "  </thead>\n",
       "  <tbody>\n",
       "    <tr>\n",
       "      <th>count</th>\n",
       "      <td>80673</td>\n",
       "      <td>80681</td>\n",
       "      <td>80681</td>\n",
       "      <td>80681</td>\n",
       "      <td>80681</td>\n",
       "      <td>80681</td>\n",
       "      <td>80681</td>\n",
       "      <td>80681</td>\n",
       "      <td>56116</td>\n",
       "      <td>36893</td>\n",
       "      <td>80667</td>\n",
       "      <td>80679</td>\n",
       "    </tr>\n",
       "    <tr>\n",
       "      <th>unique</th>\n",
       "      <td>46</td>\n",
       "      <td>72877</td>\n",
       "      <td>5</td>\n",
       "      <td>2176</td>\n",
       "      <td>532</td>\n",
       "      <td>5956</td>\n",
       "      <td>66474</td>\n",
       "      <td>66474</td>\n",
       "      <td>14824</td>\n",
       "      <td>19</td>\n",
       "      <td>9</td>\n",
       "      <td>5</td>\n",
       "    </tr>\n",
       "    <tr>\n",
       "      <th>top</th>\n",
       "      <td>1 year</td>\n",
       "      <td>A721033</td>\n",
       "      <td>Dog</td>\n",
       "      <td>Domestic Shorthair Mix</td>\n",
       "      <td>Black/White</td>\n",
       "      <td>2014-05-05T00:00:00</td>\n",
       "      <td>2016-04-18T00:00:00</td>\n",
       "      <td>2016-04-18T00:00:00</td>\n",
       "      <td>Bella</td>\n",
       "      <td>Partner</td>\n",
       "      <td>Adoption</td>\n",
       "      <td>Neutered Male</td>\n",
       "    </tr>\n",
       "    <tr>\n",
       "      <th>freq</th>\n",
       "      <td>14911</td>\n",
       "      <td>13</td>\n",
       "      <td>45856</td>\n",
       "      <td>23821</td>\n",
       "      <td>8396</td>\n",
       "      <td>112</td>\n",
       "      <td>39</td>\n",
       "      <td>39</td>\n",
       "      <td>362</td>\n",
       "      <td>20082</td>\n",
       "      <td>34232</td>\n",
       "      <td>28702</td>\n",
       "    </tr>\n",
       "  </tbody>\n",
       "</table>\n",
       "</div>"
      ],
      "text/plain": [
       "       age_upon_outcome animal_id animal_type                   breed  \\\n",
       "count             80673     80681       80681                   80681   \n",
       "unique               46     72877           5                    2176   \n",
       "top              1 year   A721033         Dog  Domestic Shorthair Mix   \n",
       "freq              14911        13       45856                   23821   \n",
       "\n",
       "              color        date_of_birth             datetime  \\\n",
       "count         80681                80681                80681   \n",
       "unique          532                 5956                66474   \n",
       "top     Black/White  2014-05-05T00:00:00  2016-04-18T00:00:00   \n",
       "freq           8396                  112                   39   \n",
       "\n",
       "                  monthyear   name outcome_subtype outcome_type  \\\n",
       "count                 80681  56116           36893        80667   \n",
       "unique                66474  14824              19            9   \n",
       "top     2016-04-18T00:00:00  Bella         Partner     Adoption   \n",
       "freq                     39    362           20082        34232   \n",
       "\n",
       "       sex_upon_outcome  \n",
       "count             80679  \n",
       "unique                5  \n",
       "top       Neutered Male  \n",
       "freq              28702  "
      ]
     },
     "execution_count": 63,
     "metadata": {},
     "output_type": "execute_result"
    }
   ],
   "source": [
    "dtf.describe()"
   ]
  },
  {
   "cell_type": "markdown",
   "metadata": {},
   "source": [
    "In the table above, the number of animals in the shelter is 80681 (the count of unique 'animal_id' entries). However, not all columns contain 80681 values, as some entries are missing (NaN values).\n",
    "\n",
    "For instance:\n",
    "\n",
    "* The column 'age_upon_outcome' contains slightly fewer values, specifically 80673 entries.\n",
    "* The 'name' column has significantly fewer entries, totaling 56116.\n",
    "* In the 'outcome_subtype' column, there are even fewer entries, with only 36893 values present, which is less than half of the total number of animals in the shelter.\n",
    "* Additionally, both the 'outcome_type' and 'sex_upon_outcome' columns have fewer entries.\n",
    "\n",
    "Moreover, the number of unique 'animal_id' entries is less than the overall number of 'animal_id' entries (72877 < 80681). This discrepancy occurs because some animals have returned to the shelter. For example, a cat named Elsa (animal_id: A684460) was initially adopted (first outcome) at the age of 2 months. However, she was later returned to the shelter (sadly, her owner surrendered her at the age of 1 year, according to the aac_intakes_outcomes.csv table). After 25 days, Elsa was transferred to another shelter (second outcome)."
   ]
  },
  {
   "cell_type": "markdown",
   "metadata": {},
   "source": [
    "***"
   ]
  },
  {
   "cell_type": "markdown",
   "metadata": {},
   "source": [
    "### A first examination of the target feature - 'outcome_type':"
   ]
  },
  {
   "cell_type": "markdown",
   "metadata": {},
   "source": [
    "A histogram of the target feature 'outcome_type':"
   ]
  },
  {
   "cell_type": "code",
   "execution_count": 64,
   "metadata": {},
   "outputs": [
    {
     "data": {
      "image/png": "[encoded data removed]",
      "text/plain": [
       "<Figure size 1440x576 with 1 Axes>"
      ]
     },
     "metadata": {
      "needs_background": "light"
     },
     "output_type": "display_data"
    }
   ],
   "source": [
    "plt.figure(figsize=(20, 8))\n",
    "sns.countplot(data=dtf, x='outcome_type', alpha=0.5)\n",
    "plt.title('Distribution of Outcome Types')\n",
    "plt.xlabel('Outcome Type', labelpad=25)\n",
    "plt.ylabel('Count', labelpad=25)\n",
    "plt.show()"
   ]
  },
  {
   "cell_type": "markdown",
   "metadata": {},
   "source": [
    "We can see that most animals were adopted (almost 35,000 animals). Almost 25,000 animals were transfered (to another shelter), about 15,000 were returned to their original owners, a little bit more than 5000 were euthanized. A small number of animals have died, an even smaller number were disposed, relocated, missing or Rto-Adopted.\n",
    "\n",
    "Overall, most animals either were adopted, transfered, returned to owner or euthanized."
   ]
  },
  {
   "cell_type": "code",
   "execution_count": 65,
   "metadata": {},
   "outputs": [],
   "source": [
    "outcome_list = ['Return to Owner', 'Transfer', 'Adoption', 'Euthanasia', 'Died', 'Rto-Adopt', 'Missing',\n",
    "                'Disposal', 'Relocate']"
   ]
  },
  {
   "cell_type": "markdown",
   "metadata": {},
   "source": [
    "***"
   ]
  },
  {
   "cell_type": "markdown",
   "metadata": {},
   "source": [
    "## Data Pre-Processing"
   ]
  },
  {
   "cell_type": "markdown",
   "metadata": {},
   "source": [
    "***Feature engineering and data cleansing.***"
   ]
  },
  {
   "cell_type": "markdown",
   "metadata": {},
   "source": [
    "### Outcome Type Distribution"
   ]
  },
  {
   "cell_type": "markdown",
   "metadata": {},
   "source": [
    "Counting the number of outcome types:"
   ]
  },
  {
   "cell_type": "code",
   "execution_count": 66,
   "metadata": {},
   "outputs": [
    {
     "name": "stdout",
     "output_type": "stream",
     "text": [
      "      outcome_type  count  percentage\n",
      "0         Adoption  34232   42.436188\n",
      "8         Transfer  24050   29.813926\n",
      "6  Return to Owner  14851   18.410255\n",
      "3       Euthanasia   6289    7.796249\n",
      "1             Died    699    0.866525\n",
      "2         Disposal    304    0.376858\n",
      "7        Rto-Adopt    179    0.221900\n",
      "4          Missing     47    0.058264\n",
      "5         Relocate     16    0.019835\n"
     ]
    }
   ],
   "source": [
    "print_animal_count(dtf, 'outcome_type')"
   ]
  },
  {
   "cell_type": "markdown",
   "metadata": {},
   "source": [
    "According to the Austin Animal Center Shelter website, 'Rto-Adopt' is when an animal is returned to their owner (Rto=return to owner), usually after it was lost, taken in the shelter as a stray and the shelter was able to locate a chip that led to the owner. Since there aren't a lot of samples of the 'Rto-Adopt' instance and it's the same as 'Return to Owner outcome', I've decided to combine both outcome types:"
   ]
  },
  {
   "cell_type": "code",
   "execution_count": 67,
   "metadata": {},
   "outputs": [],
   "source": [
    "# Replace 'Rto-Adopt' with 'Return to Owner' in the 'outcome_type' column\n",
    "dtf['outcome_type'] = dtf['outcome_type'].replace('Rto-Adopt', 'Return to Owner')"
   ]
  },
  {
   "cell_type": "markdown",
   "metadata": {},
   "source": [
    "Removing all instances with less than 1% samples in the dataset - 'Died', 'Disposal', 'Missing' and 'Relocate':"
   ]
  },
  {
   "cell_type": "code",
   "execution_count": 68,
   "metadata": {},
   "outputs": [],
   "source": [
    "dtf = dtf[(dtf['outcome_type'] != 'Died') & \n",
    "          (dtf['outcome_type'] != 'Disposal') & \n",
    "          (dtf['outcome_type'] != 'Missing') & \n",
    "          (dtf['outcome_type'] != 'Relocate')]"
   ]
  },
  {
   "cell_type": "markdown",
   "metadata": {},
   "source": [
    "After change:"
   ]
  },
  {
   "cell_type": "code",
   "execution_count": 69,
   "metadata": {},
   "outputs": [
    {
     "name": "stdout",
     "output_type": "stream",
     "text": [
      "      outcome_type  count  percentage\n",
      "0         Adoption  34232   43.004485\n",
      "3         Transfer  24050   30.213188\n",
      "2  Return to Owner  15030   18.881672\n",
      "1       Euthanasia   6289    7.900655\n"
     ]
    }
   ],
   "source": [
    "print_animal_count(dtf, 'outcome_type')"
   ]
  },
  {
   "cell_type": "markdown",
   "metadata": {},
   "source": [
    "The model will predict one of these four possible outcome types as the outcome of an animal listed in the dataset."
   ]
  },
  {
   "cell_type": "markdown",
   "metadata": {},
   "source": [
    "***"
   ]
  },
  {
   "cell_type": "markdown",
   "metadata": {},
   "source": [
    "### Outcome Subtype Distribution"
   ]
  },
  {
   "cell_type": "markdown",
   "metadata": {},
   "source": [
    "Counting the number of outcome subtype:"
   ]
  },
  {
   "cell_type": "code",
   "execution_count": 70,
   "metadata": {},
   "outputs": [
    {
     "name": "stdout",
     "output_type": "stream",
     "text": [
      "        outcome_subtype  count  percentage\n",
      "8               Partner  20082   55.403206\n",
      "5                Foster   5714   15.764063\n",
      "10                 SCRP   3211    8.858664\n",
      "12            Suffering   2563    7.070930\n",
      "9           Rabies Risk   2546    7.024030\n",
      "11                  Snr    755    2.082931\n",
      "0            Aggressive    508    1.401495\n",
      "7               Offsite    367    1.012498\n",
      "6               Medical    268    0.739372\n",
      "3              Behavior    142    0.391757\n",
      "1                At Vet     37    0.102077\n",
      "13             Underage     28    0.077248\n",
      "4   Court/Investigation     23    0.063454\n",
      "2                  Barn      3    0.008277\n"
     ]
    }
   ],
   "source": [
    "print_animal_count(dtf, 'outcome_subtype')"
   ]
  },
  {
   "cell_type": "markdown",
   "metadata": {},
   "source": [
    "Removing all instances with less than 1% samples in the dataset - 'Medical', 'Behavior', 'At Vet', 'Underage', 'Court/Investigation' and 'Barn':"
   ]
  },
  {
   "cell_type": "code",
   "execution_count": 71,
   "metadata": {},
   "outputs": [],
   "source": [
    "dtf = dtf[(dtf['outcome_subtype'] != 'Medical') & \n",
    "          (dtf['outcome_subtype'] != 'Behavior') & \n",
    "          (dtf['outcome_subtype'] != 'At Vet') & \n",
    "          (dtf['outcome_subtype'] != 'Underage') & \n",
    "          (dtf['outcome_subtype'] != 'Court/Investigation') &\n",
    "          (dtf['outcome_subtype'] != 'Barn')]"
   ]
  },
  {
   "cell_type": "markdown",
   "metadata": {},
   "source": [
    "***"
   ]
  },
  {
   "cell_type": "markdown",
   "metadata": {},
   "source": [
    "### Animal Type Distribution"
   ]
  },
  {
   "cell_type": "markdown",
   "metadata": {},
   "source": [
    "Counting the number of each animal type:"
   ]
  },
  {
   "cell_type": "code",
   "execution_count": 72,
   "metadata": {},
   "outputs": [
    {
     "name": "stdout",
     "output_type": "stream",
     "text": [
      "  animal_type  count  percentage\n",
      "2         Dog  45444   57.441161\n",
      "1         Cat  29493   37.279116\n",
      "4       Other   3869    4.890411\n",
      "0        Bird    298    0.376672\n",
      "3   Livestock     10    0.012640\n"
     ]
    }
   ],
   "source": [
    "print_animal_count(dtf, 'animal_type')"
   ]
  },
  {
   "cell_type": "markdown",
   "metadata": {},
   "source": [
    "We can see that the two most common animals in the shelter are cats and dogs (57.38% of animals in the shelter are dogs and 37.31% are cats).\n",
    "Other kind of animals (including a variety of different animals - small mammal such as bats, racoons and rabbits, wild animals such as bobcats and deers, and also reptiles and arachnids) make just 4.9% of animals in the shelter. Birds and livestock contribute less than 1%. For simplicity, I've opted to categorize birds and livestock under the 'Other' classification."
   ]
  },
  {
   "cell_type": "markdown",
   "metadata": {},
   "source": [
    "Combining birds and livestock under the 'Other' animal type classification:"
   ]
  },
  {
   "cell_type": "code",
   "execution_count": 73,
   "metadata": {},
   "outputs": [],
   "source": [
    "# Replace 'Livestock' and 'Bird' with 'Other' in the 'animal_type' column\n",
    "dtf['animal_type'] = dtf['animal_type'].replace(['Livestock', 'Bird'], 'Other')"
   ]
  },
  {
   "cell_type": "markdown",
   "metadata": {},
   "source": [
    "Counting the number of animals:"
   ]
  },
  {
   "cell_type": "code",
   "execution_count": 74,
   "metadata": {},
   "outputs": [
    {
     "name": "stdout",
     "output_type": "stream",
     "text": [
      "  animal_type  count  percentage\n",
      "1         Dog  45444   57.441161\n",
      "0         Cat  29493   37.279116\n",
      "2       Other   4177    5.279723\n"
     ]
    }
   ],
   "source": [
    "print_animal_count(dtf, 'animal_type')"
   ]
  },
  {
   "cell_type": "markdown",
   "metadata": {},
   "source": [
    "Now there are only three animal groups in the dataset - cats, dogs and other."
   ]
  },
  {
   "cell_type": "markdown",
   "metadata": {},
   "source": [
    "***"
   ]
  },
  {
   "cell_type": "markdown",
   "metadata": {},
   "source": [
    "### Missing values"
   ]
  },
  {
   "cell_type": "markdown",
   "metadata": {},
   "source": [
    "How many values are missing?"
   ]
  },
  {
   "cell_type": "code",
   "execution_count": 75,
   "metadata": {},
   "outputs": [
    {
     "data": {
      "text/plain": [
       "age_upon_outcome        8\n",
       "animal_id               0\n",
       "animal_type             0\n",
       "breed                   0\n",
       "color                   0\n",
       "date_of_birth           0\n",
       "datetime                0\n",
       "monthyear               0\n",
       "name                23513\n",
       "outcome_subtype     43368\n",
       "outcome_type           14\n",
       "sex_upon_outcome        2\n",
       "dtype: int64"
      ]
     },
     "execution_count": 75,
     "metadata": {},
     "output_type": "execute_result"
    }
   ],
   "source": [
    "dtf.isnull().sum()"
   ]
  },
  {
   "cell_type": "markdown",
   "metadata": {},
   "source": [
    "There are 8 missing values in the 'age_upon_outcome' column, 14 in the 'outcome_type' column, and 2 in the 'sex_upon_outcome' column, all of which can be addressed relatively easily (for instance, some missing data may be found in the 'in_out_df' dataset). However, the primary challenge lies in managing the extensive amount of missing data in the 'name' and 'outcome_subtype' columns."
   ]
  },
  {
   "cell_type": "markdown",
   "metadata": {},
   "source": [
    "Some missing values could potentially be recovered from the aac_intakes_outcomes.csv dataset and the aac_intakes.csv dataset. While columns such as 'age_upon_outcome', 'outcome_type', and 'sex_upon_outcome' contain only a few missing values, it is worth searching for any existing missing data that might be present in the other datasets (besides searching for missing data of the two major sparse columns - 'name' and 'outcome_subtype')."
   ]
  },
  {
   "cell_type": "markdown",
   "metadata": {},
   "source": [
    "***"
   ]
  },
  {
   "cell_type": "markdown",
   "metadata": {},
   "source": [
    "#### Missing values of 'age_upon_outcome'"
   ]
  },
  {
   "cell_type": "code",
   "execution_count": 76,
   "metadata": {},
   "outputs": [],
   "source": [
    "column_name = 'age_upon_outcome'\n",
    "df_id = 'animal_id_outcome'"
   ]
  },
  {
   "cell_type": "markdown",
   "metadata": {},
   "source": [
    "Checking if the missing 'animal_id' values exist in df_in_out (using the aac_intakes_outcomes.csv dataset):"
   ]
  },
  {
   "cell_type": "code",
   "execution_count": 77,
   "metadata": {},
   "outputs": [
    {
     "name": "stdout",
     "output_type": "stream",
     "text": [
      "Animal IDs with missing values in 'age_upon_outcome' column:\n",
      "71248    A737705\n",
      "80344    A768766\n",
      "80541    A768782\n",
      "80544    A769181\n",
      "80548    A769209\n",
      "80608    A769277\n",
      "80628    A768281\n",
      "80664    A769101\n",
      "Name: animal_id, dtype: object\n",
      "\n",
      "Animal IDs with missing values in 'age_upon_outcome' column that exist in df_in_out dataset:\n",
      "80541    A768782\n",
      "Name: animal_id, dtype: object\n",
      "\n"
     ]
    }
   ],
   "source": [
    "# Find all 'animal_id' of rows with None values in the 'age_upon_outcome' column\n",
    "missing_animal_ids_age = get_missing_animal_ids(dtf, column_name)\n",
    "print_animal_ids(column_name, missing_animal_ids_age)\n",
    "\n",
    "# Selecting the existing 'animal_id' values from missing_animal_ids_age based on existence in the filtered df_in_out\n",
    "existing_animal_id_age = get_existing_animal_ids_in_dataset(df_in_out, column_name, missing_animal_ids_age, df_id)\n",
    "print_animal_ids(column_name, existing_animal_id_age, 'df_in_out')"
   ]
  },
  {
   "cell_type": "markdown",
   "metadata": {},
   "source": [
    "Retrieving the missing value, updating the dataset and removing missing values:"
   ]
  },
  {
   "cell_type": "code",
   "execution_count": 78,
   "metadata": {},
   "outputs": [],
   "source": [
    "# Retrieving the missing value and updating the 'age_upon_outcome' column with the new value\n",
    "dtf = update_column(dtf, df_in_out, column_name, existing_animal_id_age, df_id)\n",
    "\n",
    "# Geting all 'animal_id' of rows with None values in the 'age_upon_outcome' column\n",
    "missing_animal_ids_age = get_missing_animal_ids(dtf, column_name)\n",
    "\n",
    "# Filtering dtf to exclude rows with 'animal_id' values in missing_animal_ids_age\n",
    "dtf = dtf[~dtf['animal_id'].isin(missing_animal_ids_age)]"
   ]
  },
  {
   "cell_type": "markdown",
   "metadata": {},
   "source": [
    "***"
   ]
  },
  {
   "cell_type": "markdown",
   "metadata": {},
   "source": [
    "#### Missing values of 'outcome_type'"
   ]
  },
  {
   "cell_type": "code",
   "execution_count": 79,
   "metadata": {},
   "outputs": [],
   "source": [
    "column_name = 'outcome_type'\n",
    "df_id = 'animal_id_outcome'"
   ]
  },
  {
   "cell_type": "markdown",
   "metadata": {},
   "source": [
    "Checking if the missing 'animal_id' values exist in df_in_out (using the aac_intakes_outcomes.csv dataset):"
   ]
  },
  {
   "cell_type": "code",
   "execution_count": 80,
   "metadata": {},
   "outputs": [
    {
     "name": "stdout",
     "output_type": "stream",
     "text": [
      "Animal IDs with missing values in 'outcome_type' column:\n",
      "8056     A671017\n",
      "9951     A674209\n",
      "9975     A679066\n",
      "12758    A686025\n",
      "30969    A744013\n",
      "55432    A718046\n",
      "64762    A737930\n",
      "67535    A755711\n",
      "72899    A755715\n",
      "75152    A755716\n",
      "80590    A769260\n",
      "80598    A769266\n",
      "Name: animal_id, dtype: object\n",
      "\n",
      "Animal IDs with missing values in 'outcome_type' column that exist in df_in_out dataset:\n",
      "64762    A737930\n",
      "67535    A755711\n",
      "72899    A755715\n",
      "75152    A755716\n",
      "Name: animal_id, dtype: object\n",
      "\n"
     ]
    }
   ],
   "source": [
    "# Find all 'animal_id' of rows with None values in the 'outcome_type' column\n",
    "missing_animal_ids_outcome = get_missing_animal_ids(dtf, column_name)\n",
    "print_animal_ids(column_name, missing_animal_ids_outcome)\n",
    "\n",
    "# Selecting the existing 'animal_id' values from missing_animal_ids_outcome based on existence in the filtered df_in_out\n",
    "existing_animal_id_outcome = get_existing_animal_ids_in_dataset(df_in_out, column_name, missing_animal_ids_outcome, df_id)\n",
    "\n",
    "# Filtering out any null values\n",
    "existing_animal_id_outcome = filter_null_values(df_in_out, column_name, existing_animal_id_outcome, outcome_list, df_id)\n",
    "\n",
    "print_animal_ids(column_name, existing_animal_id_outcome, 'df_in_out')"
   ]
  },
  {
   "cell_type": "markdown",
   "metadata": {},
   "source": [
    "Retrieving the missing values, updating the dataset and removing missing values:"
   ]
  },
  {
   "cell_type": "code",
   "execution_count": 81,
   "metadata": {},
   "outputs": [],
   "source": [
    "# Retrieving the missing values and updating the 'outcome_type' column with the new values\n",
    "dtf = update_column(dtf, df_in_out, column_name, existing_animal_id_outcome, df_id)\n",
    "\n",
    "# Get all 'animal_id' of rows with None values in the 'outcome_type' column\n",
    "missing_animal_ids_outcome = get_missing_animal_ids(dtf, column_name)\n",
    "\n",
    "# Filter dtf to exclude rows with 'animal_id' values in missing_animal_ids_age\n",
    "dtf = dtf[~dtf['animal_id'].isin(missing_animal_ids_outcome)]"
   ]
  },
  {
   "cell_type": "markdown",
   "metadata": {},
   "source": [
    "***"
   ]
  },
  {
   "cell_type": "markdown",
   "metadata": {},
   "source": [
    "#### Missing values of 'sex_upon_outcome'"
   ]
  },
  {
   "cell_type": "markdown",
   "metadata": {},
   "source": [
    "--------------------maybe just delete in the first place... there aren't many samples missing"
   ]
  },
  {
   "cell_type": "code",
   "execution_count": 82,
   "metadata": {},
   "outputs": [],
   "source": [
    "column_name = 'sex_upon_outcome'\n",
    "df_id = 'animal_id_outcome'"
   ]
  },
  {
   "cell_type": "markdown",
   "metadata": {},
   "source": [
    "Checking if the missing 'animal_id' values exist in df_in_out (using the aac_intakes_outcomes.csv dataset):"
   ]
  },
  {
   "cell_type": "code",
   "execution_count": 83,
   "metadata": {},
   "outputs": [
    {
     "name": "stdout",
     "output_type": "stream",
     "text": [
      "Animal IDs with missing values in 'sex_upon_outcome' column:\n",
      "12248    A667395\n",
      "Name: animal_id, dtype: object\n",
      "\n",
      "Animal IDs with missing values in 'sex_upon_outcome' column that exist in df_in_out dataset:\n",
      "Series([], Name: animal_id, dtype: object)\n",
      "\n"
     ]
    }
   ],
   "source": [
    "# Find all 'animal_id' of rows with None values in the 'sex_upon_outcome' column\n",
    "missing_animal_ids_outcome_sex = get_missing_animal_ids(dtf, column_name)\n",
    "print_animal_ids(column_name, missing_animal_ids_outcome_sex)\n",
    "\n",
    "# Selecting the existing 'animal_id' values from missing_animal_ids_outcome_sex\n",
    "# based on existence in the filtered df_in_out\n",
    "existing_animal_id_outcome_sex = get_existing_animal_ids_in_dataset(df_in_out, column_name,\n",
    "                                    missing_animal_ids_outcome_sex, df_id)\n",
    "print_animal_ids(column_name, existing_animal_id_outcome_sex, 'df_in_out')"
   ]
  },
  {
   "cell_type": "markdown",
   "metadata": {},
   "source": [
    "There is no existing data in df_in_out dataset (that matches the missing value in the 'sex_upon_outcome' column). The missing row will just be removed from the dtf dataset:"
   ]
  },
  {
   "cell_type": "code",
   "execution_count": 84,
   "metadata": {},
   "outputs": [],
   "source": [
    "# Finding the 'animal_id' that doesn't exist in df_in_out\n",
    "missing_animal_id_outcome_sex = missing_animal_ids_outcome_sex.iloc[0]\n",
    "\n",
    "# Filter dtf to exclude the row with the 'animal_id' value of missing_animal_id_outcome_sex\n",
    "dtf = dtf.drop(dtf[dtf['animal_id'] == missing_animal_id_outcome_sex].index)"
   ]
  },
  {
   "cell_type": "markdown",
   "metadata": {},
   "source": [
    "***"
   ]
  },
  {
   "cell_type": "markdown",
   "metadata": {},
   "source": [
    "#### Missing values of 'outcome_subtype'"
   ]
  },
  {
   "cell_type": "code",
   "execution_count": 85,
   "metadata": {},
   "outputs": [],
   "source": [
    "column_name = 'outcome_subtype'\n",
    "df_id = 'animal_id_outcome'"
   ]
  },
  {
   "cell_type": "markdown",
   "metadata": {},
   "source": [
    "Checking if the missing 'animal_id' values exist in df_in_out (using the aac_intakes_outcomes.csv dataset):"
   ]
  },
  {
   "cell_type": "markdown",
   "metadata": {},
   "source": [
    "-----------------Takes ~50s - add skip option"
   ]
  },
  {
   "cell_type": "code",
   "execution_count": 86,
   "metadata": {},
   "outputs": [
    {
     "name": "stdout",
     "output_type": "stream",
     "text": [
      "Animal IDs with missing values in 'outcome_subtype' column:\n",
      "2        A675708\n",
      "6        A685067\n",
      "8        A675405\n",
      "11       A640655\n",
      "15       A684460\n",
      "          ...   \n",
      "80676    A769131\n",
      "80677    A665594\n",
      "80678    A769120\n",
      "80679    A764644\n",
      "80680    A768726\n",
      "Name: animal_id, Length: 43357, dtype: object\n",
      "\n",
      "Animal IDs with missing values in 'outcome_subtype' column that exist in df_in_out dataset:\n",
      "15       A684460\n",
      "29       A665344\n",
      "84       A675373\n",
      "91       A681449\n",
      "224      A685958\n",
      "          ...   \n",
      "79964    A767718\n",
      "79967    A767718\n",
      "80199    A763701\n",
      "80367    A768895\n",
      "80418    A767357\n",
      "Name: animal_id, Length: 1784, dtype: object\n",
      "\n"
     ]
    }
   ],
   "source": [
    "sub_outcome_list = dtf['outcome_subtype'].dropna().unique()\n",
    "\n",
    "# Find all 'animal_id' of rows with None values in the 'outcome_subtype' column\n",
    "missing_animal_ids_sub = get_missing_animal_ids(dtf, column_name)\n",
    "print_animal_ids(column_name, missing_animal_ids_sub)\n",
    "\n",
    "# Selecting the existing 'animal_id' values from missing_animal_ids_sub based on existence in the filtered df_in_out\n",
    "existing_animal_id_sub = get_existing_animal_ids_in_dataset(df_in_out, column_name, missing_animal_ids_sub, df_id)\n",
    "\n",
    "# Filtering out any null values\n",
    "existing_animal_id_sub = filter_null_values(df_in_out, column_name, existing_animal_id_sub, sub_outcome_list, df_id)\n",
    "\n",
    "print_animal_ids(column_name, existing_animal_id_sub, 'df_in_out')"
   ]
  },
  {
   "cell_type": "markdown",
   "metadata": {},
   "source": [
    "Retrieving the missing value and updating the dataset, while defining a default outcome subtype for missing values:"
   ]
  },
  {
   "cell_type": "markdown",
   "metadata": {},
   "source": [
    "---------------------Takes ~1-2minutes - add skip option"
   ]
  },
  {
   "cell_type": "code",
   "execution_count": 87,
   "metadata": {},
   "outputs": [],
   "source": [
    "# Retrieving the missing values and updating the 'outcome_subtype' column with the new values\n",
    "dtf = update_column(dtf, df_in_out, column_name, existing_animal_id_sub, df_id)\n",
    "\n",
    "# Find all 'animal_id' of rows with None values in the 'outcome_subtype' column\n",
    "missing_animal_ids_sub = get_missing_animal_ids(dtf, column_name)\n",
    "\n",
    "# Define a default value for missing values in 'outcome_subtype' column\n",
    "default_subtype = \"Unknown\"\n",
    "\n",
    "# Set the default value for 'outcome_subtype' where 'animal_id' matches any element in missing_animal_ids_sub\n",
    "dtf.loc[dtf['animal_id'].isin(missing_animal_ids_sub), column_name] = default_subtype"
   ]
  },
  {
   "cell_type": "markdown",
   "metadata": {},
   "source": [
    "I refrained from simply duplicating the values from the 'outcome_type' column and substituting them with missing values in the 'outcome_subtype' column, respectively. My rationale behind this decision was to avoid artificially inflating the importance of those instances. By replicating the same value twice within a single row for certain entries in the dataset, it could potentially skew the significance of those instances compared to others. I opted to assign a default value of 'Unknown' instead."
   ]
  },
  {
   "cell_type": "markdown",
   "metadata": {},
   "source": [
    "***"
   ]
  },
  {
   "cell_type": "markdown",
   "metadata": {},
   "source": [
    "#### Missing values of 'name'"
   ]
  },
  {
   "cell_type": "code",
   "execution_count": 88,
   "metadata": {},
   "outputs": [],
   "source": [
    "column_name = 'name'\n",
    "df_id = 'animal_id'"
   ]
  },
  {
   "cell_type": "markdown",
   "metadata": {},
   "source": [
    "Checking if the missing 'animal_id' values exist in df_in (using the aac_intakes.csv dataset):"
   ]
  },
  {
   "cell_type": "code",
   "execution_count": 89,
   "metadata": {},
   "outputs": [
    {
     "name": "stdout",
     "output_type": "stream",
     "text": [
      "Animal IDs with missing values in 'name' column:\n",
      "0        A684346\n",
      "4        A683115\n",
      "14       A670420\n",
      "16       A673952\n",
      "19       A669621\n",
      "          ...   \n",
      "80661    A769130\n",
      "80662    A769322\n",
      "80665    A769321\n",
      "80669    A769320\n",
      "80673    A769127\n",
      "Name: animal_id, Length: 23501, dtype: object\n",
      "\n",
      "Animal IDs with missing values in 'name' column that exist in df_in dataset:\n",
      "Series([], Name: animal_id, dtype: object)\n",
      "\n"
     ]
    }
   ],
   "source": [
    "# Find all 'animal_id' of rows with None values in the 'name' column\n",
    "missing_animal_ids_name = get_missing_animal_ids(dtf, column_name)\n",
    "print_animal_ids(column_name, missing_animal_ids_name)\n",
    "\n",
    "# Selecting the existing 'animal_id' values from missing_animal_ids_name based on existence in the filtered df_in\n",
    "existing_animal_id_name = get_existing_animal_ids_in_dataset(df_in, column_name, missing_animal_ids_name, df_id)\n",
    "print_animal_ids(column_name, existing_animal_id_name, 'df_in')"
   ]
  },
  {
   "cell_type": "markdown",
   "metadata": {},
   "source": [
    "There is no existing data in df_in dataset (that matches the missing values in the 'name' column).\n",
    "\n",
    "Animals without a name will be given a default name. The reason that I chose to give them a default name (rather than just deleting the rows with the missing values) is that there might be a reason why these animals weren't given a name, and the fact that they don't have a name might predict their outcome. For example, rabid animals that are being euthanized aren't being named."
   ]
  },
  {
   "cell_type": "markdown",
   "metadata": {},
   "source": [
    "Missing values in the df_in dataset:"
   ]
  },
  {
   "cell_type": "code",
   "execution_count": 90,
   "metadata": {},
   "outputs": [
    {
     "data": {
      "text/plain": [
       "24584"
      ]
     },
     "execution_count": 90,
     "metadata": {},
     "output_type": "execute_result"
    }
   ],
   "source": [
    "df_in['name'].isnull().sum()"
   ]
  },
  {
   "cell_type": "markdown",
   "metadata": {},
   "source": [
    "We can see that the number of missing names in the df_in dataset is similar to the number of missing names in the dtf dataset - 24584 in df_in vs. 24553 in dtf before eliminating some of the 'outcome_type'/'outcome_subtype' instances, and 23501 in dtf after eliminating instances in the 'outcome_type'/'outcome_subtype' columns (some of the animals were just taken in the shelter and nothing changed since that, so they don't have any outcome recorded, and therefore don't appear in the outcome dataset dtf, which can explains the difference in the numbers)."
   ]
  },
  {
   "cell_type": "markdown",
   "metadata": {},
   "source": [
    "Some animals in the shelter have a name, and some don't. The name itself doesn't really predict the outcome of the animal, but the fact that the animal has a name does. For this reason I've decided to convert the 'name' column to a 'binary' column ('Yes' or 'No') if an animal has a name or if it doesn't:"
   ]
  },
  {
   "cell_type": "code",
   "execution_count": 91,
   "metadata": {},
   "outputs": [],
   "source": [
    "# Rename the column 'name' to 'is_named'\n",
    "dtf.rename(columns={'name': 'is_named'}, inplace=True)\n",
    "\n",
    "# Define a default value for the 'is_named' column (that will be replaced)\n",
    "default_name = \"Unknown\"\n",
    "\n",
    "# Set the default value for 'is_named' where 'animal_id' matches any element in missing_animal_ids_name\n",
    "dtf.loc[dtf['animal_id'].isin(missing_animal_ids_name), 'is_named'] = default_name\n",
    "\n",
    "dtf['is_named'] = np.where(dtf['is_named'].str.contains('Unknown'), 'No', 'Yes')"
   ]
  },
  {
   "cell_type": "markdown",
   "metadata": {},
   "source": [
    "***"
   ]
  },
  {
   "cell_type": "markdown",
   "metadata": {},
   "source": [
    "#### Missing values - Conclusion:"
   ]
  },
  {
   "cell_type": "markdown",
   "metadata": {},
   "source": [
    "How many values are missing now?"
   ]
  },
  {
   "cell_type": "code",
   "execution_count": 92,
   "metadata": {},
   "outputs": [
    {
     "data": {
      "text/plain": [
       "age_upon_outcome    0\n",
       "animal_id           0\n",
       "animal_type         0\n",
       "breed               0\n",
       "color               0\n",
       "date_of_birth       0\n",
       "datetime            0\n",
       "monthyear           0\n",
       "is_named            0\n",
       "outcome_subtype     0\n",
       "outcome_type        0\n",
       "sex_upon_outcome    0\n",
       "dtype: int64"
      ]
     },
     "execution_count": 92,
     "metadata": {},
     "output_type": "execute_result"
    }
   ],
   "source": [
    "dtf.isnull().sum()"
   ]
  },
  {
   "cell_type": "markdown",
   "metadata": {},
   "source": [
    "Now there are no missing values in the dataset."
   ]
  },
  {
   "cell_type": "markdown",
   "metadata": {},
   "source": [
    "***"
   ]
  },
  {
   "cell_type": "markdown",
   "metadata": {},
   "source": [
    "### Additional Feature Engineering"
   ]
  },
  {
   "cell_type": "markdown",
   "metadata": {},
   "source": [
    "#### Converting 'age_upon_outcome' column to a numeric column:"
   ]
  },
  {
   "cell_type": "code",
   "execution_count": 93,
   "metadata": {},
   "outputs": [],
   "source": [
    "# Apply the function convert_to_years to the 'age_upon_outcome' column\n",
    "dtf['age_upon_outcome'] = dtf['age_upon_outcome'].apply(convert_to_years)"
   ]
  },
  {
   "cell_type": "markdown",
   "metadata": {},
   "source": [
    "***"
   ]
  },
  {
   "cell_type": "markdown",
   "metadata": {},
   "source": [
    "#### Deleting 'date_of_birth' column:"
   ]
  },
  {
   "cell_type": "markdown",
   "metadata": {},
   "source": [
    "Each animal's age is provided in the dataset. Given the variability in the accuracy of birth dates, as indicated by the Austin Animal Center Shelter website, it's more practical to represent an animal's age in a numeric format rather than relying on a datetime format to denote the day of birth. This approach accommodates instances where birth dates are uncertain or assessed, ensuring greater consistency and convenience for analysis."
   ]
  },
  {
   "cell_type": "code",
   "execution_count": 94,
   "metadata": {},
   "outputs": [],
   "source": [
    "# Removing 'date_of_birth' column from dtf\n",
    "dtf = dtf.drop('date_of_birth', axis=1)"
   ]
  },
  {
   "cell_type": "markdown",
   "metadata": {},
   "source": [
    "***"
   ]
  },
  {
   "cell_type": "markdown",
   "metadata": {},
   "source": [
    "#### Deleteing 'monthyear' column:"
   ]
  },
  {
   "cell_type": "code",
   "execution_count": 95,
   "metadata": {},
   "outputs": [
    {
     "name": "stdout",
     "output_type": "stream",
     "text": [
      "The columns 'datetime' and 'monthyear' are equal\n"
     ]
    }
   ],
   "source": [
    "datetime = dtf['datetime']\n",
    "monthyear = dtf['monthyear']\n",
    "\n",
    "# Check if the two columns are equal\n",
    "are_equal = (datetime == monthyear).all()\n",
    "\n",
    "# Print the result\n",
    "if are_equal:\n",
    "    print(\"The columns 'datetime' and 'monthyear' are equal\")\n",
    "else:\n",
    "    print(\"Not equal\")"
   ]
  },
  {
   "cell_type": "markdown",
   "metadata": {},
   "source": [
    "Since 'datetime' and 'monthyear' are two equal columns, I've decided to delete one of them - 'monthyear':"
   ]
  },
  {
   "cell_type": "code",
   "execution_count": 96,
   "metadata": {},
   "outputs": [],
   "source": [
    "# Remove column 'monthyear'\n",
    "dtf = dtf.drop('monthyear', axis=1)"
   ]
  },
  {
   "cell_type": "markdown",
   "metadata": {},
   "source": [
    "***"
   ]
  },
  {
   "cell_type": "markdown",
   "metadata": {},
   "source": [
    "#### Converting 'datatime' column into numeric columns:"
   ]
  },
  {
   "cell_type": "markdown",
   "metadata": {},
   "source": [
    "Replacing the column 'datetime' into five columns - 'outcome_year' (year of outcome), 'outcome_month' (month of outcome) 'outcome_date' (day in the month of outcome), 'outcome_weekday' (day in the week of outcome),  and 'outcome_hour' (hour of outcome):"
   ]
  },
  {
   "cell_type": "code",
   "execution_count": 97,
   "metadata": {},
   "outputs": [],
   "source": [
    "# Converting 'outcome_date' into datetime\n",
    "dtf['datetime'] = pd.to_datetime(dtf['datetime'])\n",
    "\n",
    "dtf['outcome_year'] = dtf['datetime'].dt.year\n",
    "dtf['outcome_month'] = dtf['datetime'].dt.month\n",
    "dtf['outcome_date'] = dtf['datetime'].dt.daysinmonth\n",
    "dtf['outcome_weekday'] = dtf['datetime'].dt.dayofweek\n",
    "dtf['outcome_hour'] = dtf['datetime'].dt.hour\n",
    "\n",
    "# Rearranging the columns in dtf\n",
    "column_order = ['age_upon_outcome', 'animal_id', 'animal_type', 'breed', 'color', 'outcome_year',\n",
    "                'outcome_month', 'outcome_date', 'outcome_weekday', 'outcome_hour', 'is_named',\n",
    "                'outcome_subtype', 'outcome_type', 'sex_upon_outcome']\n",
    "dtf = dtf[column_order]"
   ]
  },
  {
   "cell_type": "markdown",
   "metadata": {},
   "source": [
    "***"
   ]
  },
  {
   "cell_type": "markdown",
   "metadata": {},
   "source": [
    "#### Color Distribution"
   ]
  },
  {
   "cell_type": "markdown",
   "metadata": {},
   "source": [
    "Top 15 cat colors:"
   ]
  },
  {
   "cell_type": "code",
   "execution_count": 98,
   "metadata": {},
   "outputs": [
    {
     "data": {
      "text/html": [
       "<div>\n",
       "<style scoped>\n",
       "    .dataframe tbody tr th:only-of-type {\n",
       "        vertical-align: middle;\n",
       "    }\n",
       "\n",
       "    .dataframe tbody tr th {\n",
       "        vertical-align: top;\n",
       "    }\n",
       "\n",
       "    .dataframe thead th {\n",
       "        text-align: right;\n",
       "    }\n",
       "</style>\n",
       "<table border=\"1\" class=\"dataframe\">\n",
       "  <thead>\n",
       "    <tr style=\"text-align: right;\">\n",
       "      <th></th>\n",
       "      <th>count</th>\n",
       "      <th>percentage</th>\n",
       "    </tr>\n",
       "  </thead>\n",
       "  <tbody>\n",
       "    <tr>\n",
       "      <th>Brown Tabby</th>\n",
       "      <td>4453</td>\n",
       "      <td>15.100034</td>\n",
       "    </tr>\n",
       "    <tr>\n",
       "      <th>Black</th>\n",
       "      <td>3843</td>\n",
       "      <td>13.031536</td>\n",
       "    </tr>\n",
       "    <tr>\n",
       "      <th>Black/White</th>\n",
       "      <td>2784</td>\n",
       "      <td>9.440488</td>\n",
       "    </tr>\n",
       "    <tr>\n",
       "      <th>Brown Tabby/White</th>\n",
       "      <td>2345</td>\n",
       "      <td>7.951848</td>\n",
       "    </tr>\n",
       "    <tr>\n",
       "      <th>Orange Tabby</th>\n",
       "      <td>2188</td>\n",
       "      <td>7.419464</td>\n",
       "    </tr>\n",
       "    <tr>\n",
       "      <th>Tortie</th>\n",
       "      <td>1360</td>\n",
       "      <td>4.611733</td>\n",
       "    </tr>\n",
       "    <tr>\n",
       "      <th>Calico</th>\n",
       "      <td>1323</td>\n",
       "      <td>4.486267</td>\n",
       "    </tr>\n",
       "    <tr>\n",
       "      <th>Blue Tabby</th>\n",
       "      <td>1135</td>\n",
       "      <td>3.848762</td>\n",
       "    </tr>\n",
       "    <tr>\n",
       "      <th>Orange Tabby/White</th>\n",
       "      <td>1115</td>\n",
       "      <td>3.780943</td>\n",
       "    </tr>\n",
       "    <tr>\n",
       "      <th>Blue</th>\n",
       "      <td>1055</td>\n",
       "      <td>3.577484</td>\n",
       "    </tr>\n",
       "    <tr>\n",
       "      <th>Torbie</th>\n",
       "      <td>852</td>\n",
       "      <td>2.889115</td>\n",
       "    </tr>\n",
       "    <tr>\n",
       "      <th>Blue/White</th>\n",
       "      <td>791</td>\n",
       "      <td>2.682265</td>\n",
       "    </tr>\n",
       "    <tr>\n",
       "      <th>Blue Tabby/White</th>\n",
       "      <td>547</td>\n",
       "      <td>1.854866</td>\n",
       "    </tr>\n",
       "    <tr>\n",
       "      <th>White/Black</th>\n",
       "      <td>505</td>\n",
       "      <td>1.712445</td>\n",
       "    </tr>\n",
       "    <tr>\n",
       "      <th>Cream Tabby</th>\n",
       "      <td>501</td>\n",
       "      <td>1.698881</td>\n",
       "    </tr>\n",
       "  </tbody>\n",
       "</table>\n",
       "</div>"
      ],
      "text/plain": [
       "                    count  percentage\n",
       "Brown Tabby          4453   15.100034\n",
       "Black                3843   13.031536\n",
       "Black/White          2784    9.440488\n",
       "Brown Tabby/White    2345    7.951848\n",
       "Orange Tabby         2188    7.419464\n",
       "Tortie               1360    4.611733\n",
       "Calico               1323    4.486267\n",
       "Blue Tabby           1135    3.848762\n",
       "Orange Tabby/White   1115    3.780943\n",
       "Blue                 1055    3.577484\n",
       "Torbie                852    2.889115\n",
       "Blue/White            791    2.682265\n",
       "Blue Tabby/White      547    1.854866\n",
       "White/Black           505    1.712445\n",
       "Cream Tabby           501    1.698881"
      ]
     },
     "execution_count": 98,
     "metadata": {},
     "output_type": "execute_result"
    }
   ],
   "source": [
    "top_k_cat_colors = pd.DataFrame(get_top_k(dtf, 'color', 'Cat', 15))\n",
    "top_k_cat_colors.head(15)"
   ]
  },
  {
   "cell_type": "markdown",
   "metadata": {},
   "source": [
    "Most cats are brown tabbies, black, black and white, brown and white tabbies or gingers. I've decides to keep all the instances above of colors of the coats of cats, and for any other color of coat I'll put a default value:"
   ]
  },
  {
   "cell_type": "code",
   "execution_count": 99,
   "metadata": {},
   "outputs": [],
   "source": [
    "dtf = set_top_k_colors(dtf, 'Cat', 15)"
   ]
  },
  {
   "cell_type": "markdown",
   "metadata": {},
   "source": [
    "Top 16 dog colors:"
   ]
  },
  {
   "cell_type": "code",
   "execution_count": 100,
   "metadata": {},
   "outputs": [
    {
     "data": {
      "text/html": [
       "<div>\n",
       "<style scoped>\n",
       "    .dataframe tbody tr th:only-of-type {\n",
       "        vertical-align: middle;\n",
       "    }\n",
       "\n",
       "    .dataframe tbody tr th {\n",
       "        vertical-align: top;\n",
       "    }\n",
       "\n",
       "    .dataframe thead th {\n",
       "        text-align: right;\n",
       "    }\n",
       "</style>\n",
       "<table border=\"1\" class=\"dataframe\">\n",
       "  <thead>\n",
       "    <tr style=\"text-align: right;\">\n",
       "      <th></th>\n",
       "      <th>count</th>\n",
       "      <th>percentage</th>\n",
       "    </tr>\n",
       "  </thead>\n",
       "  <tbody>\n",
       "    <tr>\n",
       "      <th>Black/White</th>\n",
       "      <td>5230</td>\n",
       "      <td>11.509936</td>\n",
       "    </tr>\n",
       "    <tr>\n",
       "      <th>Black</th>\n",
       "      <td>2521</td>\n",
       "      <td>5.548097</td>\n",
       "    </tr>\n",
       "    <tr>\n",
       "      <th>Brown/White</th>\n",
       "      <td>2478</td>\n",
       "      <td>5.453465</td>\n",
       "    </tr>\n",
       "    <tr>\n",
       "      <th>Tan/White</th>\n",
       "      <td>2447</td>\n",
       "      <td>5.385242</td>\n",
       "    </tr>\n",
       "    <tr>\n",
       "      <th>White</th>\n",
       "      <td>2373</td>\n",
       "      <td>5.222386</td>\n",
       "    </tr>\n",
       "    <tr>\n",
       "      <th>Tan</th>\n",
       "      <td>2000</td>\n",
       "      <td>4.401505</td>\n",
       "    </tr>\n",
       "    <tr>\n",
       "      <th>Tricolor</th>\n",
       "      <td>1969</td>\n",
       "      <td>4.333282</td>\n",
       "    </tr>\n",
       "    <tr>\n",
       "      <th>Black/Tan</th>\n",
       "      <td>1856</td>\n",
       "      <td>4.084597</td>\n",
       "    </tr>\n",
       "    <tr>\n",
       "      <th>Brown</th>\n",
       "      <td>1845</td>\n",
       "      <td>4.060389</td>\n",
       "    </tr>\n",
       "    <tr>\n",
       "      <th>White/Black</th>\n",
       "      <td>1560</td>\n",
       "      <td>3.433174</td>\n",
       "    </tr>\n",
       "    <tr>\n",
       "      <th>White/Brown</th>\n",
       "      <td>1535</td>\n",
       "      <td>3.378155</td>\n",
       "    </tr>\n",
       "    <tr>\n",
       "      <th>Black/Brown</th>\n",
       "      <td>1442</td>\n",
       "      <td>3.173485</td>\n",
       "    </tr>\n",
       "    <tr>\n",
       "      <th>Brown Brindle/White</th>\n",
       "      <td>1380</td>\n",
       "      <td>3.037039</td>\n",
       "    </tr>\n",
       "    <tr>\n",
       "      <th>Blue/White</th>\n",
       "      <td>1313</td>\n",
       "      <td>2.889588</td>\n",
       "    </tr>\n",
       "    <tr>\n",
       "      <th>White/Tan</th>\n",
       "      <td>1165</td>\n",
       "      <td>2.563877</td>\n",
       "    </tr>\n",
       "    <tr>\n",
       "      <th>Brown/Black</th>\n",
       "      <td>1028</td>\n",
       "      <td>2.262374</td>\n",
       "    </tr>\n",
       "  </tbody>\n",
       "</table>\n",
       "</div>"
      ],
      "text/plain": [
       "                     count  percentage\n",
       "Black/White           5230   11.509936\n",
       "Black                 2521    5.548097\n",
       "Brown/White           2478    5.453465\n",
       "Tan/White             2447    5.385242\n",
       "White                 2373    5.222386\n",
       "Tan                   2000    4.401505\n",
       "Tricolor              1969    4.333282\n",
       "Black/Tan             1856    4.084597\n",
       "Brown                 1845    4.060389\n",
       "White/Black           1560    3.433174\n",
       "White/Brown           1535    3.378155\n",
       "Black/Brown           1442    3.173485\n",
       "Brown Brindle/White   1380    3.037039\n",
       "Blue/White            1313    2.889588\n",
       "White/Tan             1165    2.563877\n",
       "Brown/Black           1028    2.262374"
      ]
     },
     "execution_count": 100,
     "metadata": {},
     "output_type": "execute_result"
    }
   ],
   "source": [
    "top_k_dog_colors = pd.DataFrame(get_top_k(dtf, 'color', 'Dog', 16))\n",
    "top_k_dog_colors.head(16)"
   ]
  },
  {
   "cell_type": "markdown",
   "metadata": {},
   "source": [
    "Most dogs are black and white, black, brown and white, tan and white or white. I've decides to keep all the instances above of colors of the coats of dogs, and for any other color of coat I'll put a default value:"
   ]
  },
  {
   "cell_type": "code",
   "execution_count": 101,
   "metadata": {},
   "outputs": [],
   "source": [
    "dtf = set_top_k_colors(dtf, 'Dog', 16)"
   ]
  },
  {
   "cell_type": "markdown",
   "metadata": {},
   "source": [
    "Top 11 colors of other animals:"
   ]
  },
  {
   "cell_type": "code",
   "execution_count": 102,
   "metadata": {},
   "outputs": [
    {
     "data": {
      "text/html": [
       "<div>\n",
       "<style scoped>\n",
       "    .dataframe tbody tr th:only-of-type {\n",
       "        vertical-align: middle;\n",
       "    }\n",
       "\n",
       "    .dataframe tbody tr th {\n",
       "        vertical-align: top;\n",
       "    }\n",
       "\n",
       "    .dataframe thead th {\n",
       "        text-align: right;\n",
       "    }\n",
       "</style>\n",
       "<table border=\"1\" class=\"dataframe\">\n",
       "  <thead>\n",
       "    <tr style=\"text-align: right;\">\n",
       "      <th></th>\n",
       "      <th>count</th>\n",
       "      <th>percentage</th>\n",
       "    </tr>\n",
       "  </thead>\n",
       "  <tbody>\n",
       "    <tr>\n",
       "      <th>Brown</th>\n",
       "      <td>1529</td>\n",
       "      <td>36.684261</td>\n",
       "    </tr>\n",
       "    <tr>\n",
       "      <th>Black</th>\n",
       "      <td>271</td>\n",
       "      <td>6.501919</td>\n",
       "    </tr>\n",
       "    <tr>\n",
       "      <th>Brown/Black</th>\n",
       "      <td>265</td>\n",
       "      <td>6.357965</td>\n",
       "    </tr>\n",
       "    <tr>\n",
       "      <th>Black/White</th>\n",
       "      <td>257</td>\n",
       "      <td>6.166027</td>\n",
       "    </tr>\n",
       "    <tr>\n",
       "      <th>Gray/Black</th>\n",
       "      <td>228</td>\n",
       "      <td>5.470250</td>\n",
       "    </tr>\n",
       "    <tr>\n",
       "      <th>Gray</th>\n",
       "      <td>194</td>\n",
       "      <td>4.654511</td>\n",
       "    </tr>\n",
       "    <tr>\n",
       "      <th>Black/Brown</th>\n",
       "      <td>149</td>\n",
       "      <td>3.574856</td>\n",
       "    </tr>\n",
       "    <tr>\n",
       "      <th>Black/Gray</th>\n",
       "      <td>135</td>\n",
       "      <td>3.238964</td>\n",
       "    </tr>\n",
       "    <tr>\n",
       "      <th>Red</th>\n",
       "      <td>134</td>\n",
       "      <td>3.214971</td>\n",
       "    </tr>\n",
       "    <tr>\n",
       "      <th>White</th>\n",
       "      <td>112</td>\n",
       "      <td>2.687140</td>\n",
       "    </tr>\n",
       "    <tr>\n",
       "      <th>White/Black</th>\n",
       "      <td>91</td>\n",
       "      <td>2.183301</td>\n",
       "    </tr>\n",
       "  </tbody>\n",
       "</table>\n",
       "</div>"
      ],
      "text/plain": [
       "             count  percentage\n",
       "Brown         1529   36.684261\n",
       "Black          271    6.501919\n",
       "Brown/Black    265    6.357965\n",
       "Black/White    257    6.166027\n",
       "Gray/Black     228    5.470250\n",
       "Gray           194    4.654511\n",
       "Black/Brown    149    3.574856\n",
       "Black/Gray     135    3.238964\n",
       "Red            134    3.214971\n",
       "White          112    2.687140\n",
       "White/Black     91    2.183301"
      ]
     },
     "execution_count": 102,
     "metadata": {},
     "output_type": "execute_result"
    }
   ],
   "source": [
    "top_k_other_colors = pd.DataFrame(get_top_k(dtf, 'color', 'Other', 11))\n",
    "top_k_other_colors.head(11)"
   ]
  },
  {
   "cell_type": "markdown",
   "metadata": {},
   "source": [
    "Most of the other animals are brown, black and white, black, gray and black or black and white. I've decides to keep all the instances above of colors of the other animals, and for any other color of coat I'll put a default value:"
   ]
  },
  {
   "cell_type": "code",
   "execution_count": 103,
   "metadata": {},
   "outputs": [],
   "source": [
    "dtf = set_top_k_colors(dtf, 'Other', 11)"
   ]
  },
  {
   "cell_type": "markdown",
   "metadata": {},
   "source": [
    "***"
   ]
  },
  {
   "cell_type": "markdown",
   "metadata": {},
   "source": [
    "#### Spliting 'color' column:"
   ]
  },
  {
   "cell_type": "code",
   "execution_count": 104,
   "metadata": {},
   "outputs": [],
   "source": [
    "# Split values in the 'color' column based on '/'\n",
    "split_colors = dtf['color'].str.split('/', expand=True)\n",
    "\n",
    "# Apply the sorting function along the rows\n",
    "# A value of two colors will be split into two values and then sorted alphabetically\n",
    "sorted_colors = split_colors.apply(sort_colors, axis=1)\n",
    "\n",
    "# Assign the first and second element to 'color1' and 'color2' respectively\n",
    "dtf['color1'] = sorted_colors.apply(lambda x: x[0])\n",
    "dtf['color2'] = sorted_colors.apply(lambda x: x[1])\n",
    "\n",
    "# Replace missing values in 'color2' with a default value\n",
    "default_color = 'No Color'\n",
    "dtf['color2'].fillna(default_color, inplace=True)"
   ]
  },
  {
   "cell_type": "code",
   "execution_count": 105,
   "metadata": {},
   "outputs": [],
   "source": [
    "# Drop the original 'color' column if needed\n",
    "dtf.drop(columns=['color'], inplace=True)\n",
    "\n",
    "# Rearrange the columns\n",
    "column_order = ['age_upon_outcome', 'animal_id', 'animal_type', 'breed', 'color1', 'color2',\n",
    "                'outcome_year', 'outcome_month', 'outcome_date', 'outcome_weekday', 'outcome_hour',\n",
    "                'is_named', 'outcome_subtype', 'outcome_type', 'sex_upon_outcome']\n",
    "dtf = dtf[column_order]"
   ]
  },
  {
   "cell_type": "markdown",
   "metadata": {},
   "source": [
    "***"
   ]
  },
  {
   "cell_type": "markdown",
   "metadata": {},
   "source": [
    "#### Spliting 'sex_upon_outcome' column:"
   ]
  },
  {
   "cell_type": "markdown",
   "metadata": {},
   "source": [
    "For this part I've used the code from the Extraction and Feature Engineering of Animal Austin Center's Shelter Outcomes Dataset using Requests and Pandas written by Aaron Schlegel (https://aaronschlegel.me/extraction-feature-engineering-aac-data-requests-pandas.html)."
   ]
  },
  {
   "cell_type": "markdown",
   "metadata": {},
   "source": [
    "Transforming the column 'sex_upon_outcome' into two columns - 'sex' (containing the sex of the animal) and 'spayed_neutered' (containing if an animal is spayed/neutered):"
   ]
  },
  {
   "cell_type": "code",
   "execution_count": 106,
   "metadata": {},
   "outputs": [],
   "source": [
    "# Create a new column 'sex' based on the 'sex_upon_outcome' column\n",
    "dtf['sex'] = np.where(dtf['sex_upon_outcome'].str.contains('Male'), 'Male', \n",
    "                              np.where(dtf['sex_upon_outcome'].str.contains('Unknown'), 'Unknown', 'Female'))\n",
    "\n",
    "# Create a new column 'Spay/Neuter' based on the 'sex_upon_outcome' column\n",
    "dtf['spayed_neutered'] = np.where(dtf['sex_upon_outcome'].str.contains('Intact'), 'No', \n",
    "                              np.where(dtf['sex_upon_outcome'].str.contains('Unknown'), 'Unknown', 'Yes'))\n",
    "\n",
    "# Deleting the 'sex_upon_outcome' column\n",
    "dtf = dtf.drop(columns=['sex_upon_outcome'])"
   ]
  },
  {
   "cell_type": "markdown",
   "metadata": {},
   "source": [
    "In the 'sex' column:<br>\n",
    "'Male' assigned as 'Male', 'Female' assigned as 'Female', and 'Unknown' assigned as 'Unknown'.\n",
    "\n",
    "In the 'spayed_neutered' column:<br>\n",
    "'Intact' assigned as 'No', 'Spay/Neuter' assigned as 'Yes', and 'Unknown' assigned as 'Unknown'."
   ]
  },
  {
   "cell_type": "markdown",
   "metadata": {},
   "source": [
    "***"
   ]
  },
  {
   "cell_type": "markdown",
   "metadata": {},
   "source": [
    "#### Fixing 'breed' column:"
   ]
  },
  {
   "cell_type": "markdown",
   "metadata": {},
   "source": [
    "For this part I've used the code from the Extraction and Feature Engineering of Animal Austin Center's Shelter Outcomes Dataset using Requests and Pandas written by Aaron Schlegel (https://aaronschlegel.me/extraction-feature-engineering-aac-data-requests-pandas.html)."
   ]
  },
  {
   "cell_type": "markdown",
   "metadata": {},
   "source": [
    "Adding a new column 'mixed_breed' (to identify if an animal is mixed breed or not) and correcting the some of the names of breeds:"
   ]
  },
  {
   "cell_type": "code",
   "execution_count": 107,
   "metadata": {},
   "outputs": [],
   "source": [
    "# Create a new column 'mixed_breed' based on the 'breed' column\n",
    "dtf['mixed_breed'] = np.where(dtf['breed'].str.contains('Mix'), 'Yes', 'No')\n",
    "\n",
    "# Rearrange the columns\n",
    "column_order = ['age_upon_outcome', 'animal_id', 'animal_type', 'breed', 'mixed_breed', 'color1', 'color2',\n",
    "                'outcome_year', 'outcome_month', 'outcome_date', 'outcome_weekday', 'outcome_hour', 'is_named',\n",
    "                'outcome_subtype', 'outcome_type', 'sex', 'spayed_neutered']\n",
    "dtf = dtf[column_order]\n",
    "\n",
    "# Removing the word 'Mix' from the breeds and removing blank spaces\n",
    "dtf['breed'] = dtf['breed'].str.replace('Mix', '').str.strip()\n",
    "\n",
    "# Replacing 'Medium Hair' with 'Mediumhair'\n",
    "dtf['breed'] = dtf['breed'].str.replace('Medium Hair', 'Mediumhair')"
   ]
  },
  {
   "cell_type": "markdown",
   "metadata": {},
   "source": [
    "In the 'sex' column:<br>\n",
    "'Mix' assigned as 'Yes', otherwise assigned as 'No'.\n",
    "\n",
    "In the 'breed' column:<br>\n",
    "The word 'Mix' was removed from all the different breeds (irrelevant to the type of the breed). Also, 'Medium Hair' was replaceed with a single word of 'Mediumhair' (just like 'Shorthair' and 'Longhair' are single words)."
   ]
  },
  {
   "cell_type": "markdown",
   "metadata": {},
   "source": [
    "***"
   ]
  },
  {
   "cell_type": "markdown",
   "metadata": {},
   "source": [
    "#### Breed Distribution"
   ]
  },
  {
   "cell_type": "markdown",
   "metadata": {},
   "source": [
    "Top 10 cat breeds:"
   ]
  },
  {
   "cell_type": "code",
   "execution_count": 108,
   "metadata": {},
   "outputs": [
    {
     "data": {
      "text/html": [
       "<div>\n",
       "<style scoped>\n",
       "    .dataframe tbody tr th:only-of-type {\n",
       "        vertical-align: middle;\n",
       "    }\n",
       "\n",
       "    .dataframe tbody tr th {\n",
       "        vertical-align: top;\n",
       "    }\n",
       "\n",
       "    .dataframe thead th {\n",
       "        text-align: right;\n",
       "    }\n",
       "</style>\n",
       "<table border=\"1\" class=\"dataframe\">\n",
       "  <thead>\n",
       "    <tr style=\"text-align: right;\">\n",
       "      <th></th>\n",
       "      <th>count</th>\n",
       "      <th>percentage</th>\n",
       "    </tr>\n",
       "  </thead>\n",
       "  <tbody>\n",
       "    <tr>\n",
       "      <th>Domestic Shorthair</th>\n",
       "      <td>23783</td>\n",
       "      <td>80.647677</td>\n",
       "    </tr>\n",
       "    <tr>\n",
       "      <th>Domestic Mediumhair</th>\n",
       "      <td>2455</td>\n",
       "      <td>8.324856</td>\n",
       "    </tr>\n",
       "    <tr>\n",
       "      <th>Domestic Longhair</th>\n",
       "      <td>1279</td>\n",
       "      <td>4.337063</td>\n",
       "    </tr>\n",
       "    <tr>\n",
       "      <th>Siamese</th>\n",
       "      <td>1051</td>\n",
       "      <td>3.563920</td>\n",
       "    </tr>\n",
       "    <tr>\n",
       "      <th>American Shorthair</th>\n",
       "      <td>207</td>\n",
       "      <td>0.701933</td>\n",
       "    </tr>\n",
       "    <tr>\n",
       "      <th>Snowshoe</th>\n",
       "      <td>156</td>\n",
       "      <td>0.528993</td>\n",
       "    </tr>\n",
       "    <tr>\n",
       "      <th>Maine Coon</th>\n",
       "      <td>119</td>\n",
       "      <td>0.403527</td>\n",
       "    </tr>\n",
       "    <tr>\n",
       "      <th>Manx</th>\n",
       "      <td>79</td>\n",
       "      <td>0.267887</td>\n",
       "    </tr>\n",
       "    <tr>\n",
       "      <th>Russian Blue</th>\n",
       "      <td>71</td>\n",
       "      <td>0.240760</td>\n",
       "    </tr>\n",
       "    <tr>\n",
       "      <th>Himalayan</th>\n",
       "      <td>39</td>\n",
       "      <td>0.132248</td>\n",
       "    </tr>\n",
       "  </tbody>\n",
       "</table>\n",
       "</div>"
      ],
      "text/plain": [
       "                     count  percentage\n",
       "Domestic Shorthair   23783   80.647677\n",
       "Domestic Mediumhair   2455    8.324856\n",
       "Domestic Longhair     1279    4.337063\n",
       "Siamese               1051    3.563920\n",
       "American Shorthair     207    0.701933\n",
       "Snowshoe               156    0.528993\n",
       "Maine Coon             119    0.403527\n",
       "Manx                    79    0.267887\n",
       "Russian Blue            71    0.240760\n",
       "Himalayan               39    0.132248"
      ]
     },
     "execution_count": 108,
     "metadata": {},
     "output_type": "execute_result"
    }
   ],
   "source": [
    "top_k_cat_breeds = pd.DataFrame(get_top_k(dtf, 'breed', 'Cat', 10))\n",
    "top_k_cat_breeds.head(10)"
   ]
  },
  {
   "cell_type": "markdown",
   "metadata": {},
   "source": [
    "Most cats are domestic shorthairs, domestic mediumhairs, domestic longhairs or siameses. Other types of cat breeds are less than 1%, and so I've decided to keep all instances that have more than 1% samples in the dataset as-is, and any other breed will be replaced with a default value:"
   ]
  },
  {
   "cell_type": "code",
   "execution_count": 109,
   "metadata": {},
   "outputs": [],
   "source": [
    "dtf = set_top_k_breeds(dtf, 'Cat', 4)"
   ]
  },
  {
   "cell_type": "markdown",
   "metadata": {},
   "source": [
    "Top 10 dog breeds:"
   ]
  },
  {
   "cell_type": "code",
   "execution_count": 110,
   "metadata": {},
   "outputs": [
    {
     "data": {
      "text/html": [
       "<div>\n",
       "<style scoped>\n",
       "    .dataframe tbody tr th:only-of-type {\n",
       "        vertical-align: middle;\n",
       "    }\n",
       "\n",
       "    .dataframe tbody tr th {\n",
       "        vertical-align: top;\n",
       "    }\n",
       "\n",
       "    .dataframe thead th {\n",
       "        text-align: right;\n",
       "    }\n",
       "</style>\n",
       "<table border=\"1\" class=\"dataframe\">\n",
       "  <thead>\n",
       "    <tr style=\"text-align: right;\">\n",
       "      <th></th>\n",
       "      <th>count</th>\n",
       "      <th>percentage</th>\n",
       "    </tr>\n",
       "  </thead>\n",
       "  <tbody>\n",
       "    <tr>\n",
       "      <th>Pit Bull</th>\n",
       "      <td>6480</td>\n",
       "      <td>14.260877</td>\n",
       "    </tr>\n",
       "    <tr>\n",
       "      <th>Labrador Retriever</th>\n",
       "      <td>5056</td>\n",
       "      <td>11.127005</td>\n",
       "    </tr>\n",
       "    <tr>\n",
       "      <th>Chihuahua Shorthair</th>\n",
       "      <td>5035</td>\n",
       "      <td>11.080790</td>\n",
       "    </tr>\n",
       "    <tr>\n",
       "      <th>German Shepherd</th>\n",
       "      <td>2191</td>\n",
       "      <td>4.821849</td>\n",
       "    </tr>\n",
       "    <tr>\n",
       "      <th>Australian Cattle Dog</th>\n",
       "      <td>1183</td>\n",
       "      <td>2.603490</td>\n",
       "    </tr>\n",
       "    <tr>\n",
       "      <th>Dachshund</th>\n",
       "      <td>915</td>\n",
       "      <td>2.013689</td>\n",
       "    </tr>\n",
       "    <tr>\n",
       "      <th>Boxer</th>\n",
       "      <td>773</td>\n",
       "      <td>1.701182</td>\n",
       "    </tr>\n",
       "    <tr>\n",
       "      <th>Miniature Poodle</th>\n",
       "      <td>716</td>\n",
       "      <td>1.575739</td>\n",
       "    </tr>\n",
       "    <tr>\n",
       "      <th>Border Collie</th>\n",
       "      <td>708</td>\n",
       "      <td>1.558133</td>\n",
       "    </tr>\n",
       "    <tr>\n",
       "      <th>Siberian Husky</th>\n",
       "      <td>558</td>\n",
       "      <td>1.228020</td>\n",
       "    </tr>\n",
       "  </tbody>\n",
       "</table>\n",
       "</div>"
      ],
      "text/plain": [
       "                       count  percentage\n",
       "Pit Bull                6480   14.260877\n",
       "Labrador Retriever      5056   11.127005\n",
       "Chihuahua Shorthair     5035   11.080790\n",
       "German Shepherd         2191    4.821849\n",
       "Australian Cattle Dog   1183    2.603490\n",
       "Dachshund                915    2.013689\n",
       "Boxer                    773    1.701182\n",
       "Miniature Poodle         716    1.575739\n",
       "Border Collie            708    1.558133\n",
       "Siberian Husky           558    1.228020"
      ]
     },
     "execution_count": 110,
     "metadata": {},
     "output_type": "execute_result"
    }
   ],
   "source": [
    "top_k_dog_breeds = pd.DataFrame(get_top_k(dtf, 'breed', 'Dog', 10))\n",
    "top_k_dog_breeds.head(10)"
   ]
  },
  {
   "cell_type": "markdown",
   "metadata": {},
   "source": [
    "Most dogs are pit bulls, labradors, chihuahuas, german shepherds and australian cattle dogs. I've decides to keep all the instances above of breeds of dogs, and for any other breed I'll put a default value:"
   ]
  },
  {
   "cell_type": "code",
   "execution_count": 111,
   "metadata": {},
   "outputs": [],
   "source": [
    "dtf = set_top_k_breeds(dtf, 'Dog', 10)"
   ]
  },
  {
   "cell_type": "markdown",
   "metadata": {},
   "source": [
    "Top 10 breeds of other animals:"
   ]
  },
  {
   "cell_type": "code",
   "execution_count": 112,
   "metadata": {},
   "outputs": [
    {
     "data": {
      "text/html": [
       "<div>\n",
       "<style scoped>\n",
       "    .dataframe tbody tr th:only-of-type {\n",
       "        vertical-align: middle;\n",
       "    }\n",
       "\n",
       "    .dataframe tbody tr th {\n",
       "        vertical-align: top;\n",
       "    }\n",
       "\n",
       "    .dataframe thead th {\n",
       "        text-align: right;\n",
       "    }\n",
       "</style>\n",
       "<table border=\"1\" class=\"dataframe\">\n",
       "  <thead>\n",
       "    <tr style=\"text-align: right;\">\n",
       "      <th></th>\n",
       "      <th>count</th>\n",
       "      <th>percentage</th>\n",
       "    </tr>\n",
       "  </thead>\n",
       "  <tbody>\n",
       "    <tr>\n",
       "      <th>Bat</th>\n",
       "      <td>1933</td>\n",
       "      <td>46.377159</td>\n",
       "    </tr>\n",
       "    <tr>\n",
       "      <th>Raccoon</th>\n",
       "      <td>584</td>\n",
       "      <td>14.011516</td>\n",
       "    </tr>\n",
       "    <tr>\n",
       "      <th>Rabbit Sh</th>\n",
       "      <td>303</td>\n",
       "      <td>7.269674</td>\n",
       "    </tr>\n",
       "    <tr>\n",
       "      <th>Opossum</th>\n",
       "      <td>201</td>\n",
       "      <td>4.822457</td>\n",
       "    </tr>\n",
       "    <tr>\n",
       "      <th>Guinea Pig</th>\n",
       "      <td>157</td>\n",
       "      <td>3.766795</td>\n",
       "    </tr>\n",
       "    <tr>\n",
       "      <th>Chicken</th>\n",
       "      <td>121</td>\n",
       "      <td>2.903071</td>\n",
       "    </tr>\n",
       "    <tr>\n",
       "      <th>Skunk</th>\n",
       "      <td>115</td>\n",
       "      <td>2.759117</td>\n",
       "    </tr>\n",
       "    <tr>\n",
       "      <th>Squirrel</th>\n",
       "      <td>90</td>\n",
       "      <td>2.159309</td>\n",
       "    </tr>\n",
       "    <tr>\n",
       "      <th>Rat</th>\n",
       "      <td>55</td>\n",
       "      <td>1.319578</td>\n",
       "    </tr>\n",
       "    <tr>\n",
       "      <th>Fox</th>\n",
       "      <td>50</td>\n",
       "      <td>1.199616</td>\n",
       "    </tr>\n",
       "  </tbody>\n",
       "</table>\n",
       "</div>"
      ],
      "text/plain": [
       "            count  percentage\n",
       "Bat          1933   46.377159\n",
       "Raccoon       584   14.011516\n",
       "Rabbit Sh     303    7.269674\n",
       "Opossum       201    4.822457\n",
       "Guinea Pig    157    3.766795\n",
       "Chicken       121    2.903071\n",
       "Skunk         115    2.759117\n",
       "Squirrel       90    2.159309\n",
       "Rat            55    1.319578\n",
       "Fox            50    1.199616"
      ]
     },
     "execution_count": 112,
     "metadata": {},
     "output_type": "execute_result"
    }
   ],
   "source": [
    "top_k_other_breeds = pd.DataFrame(get_top_k(dtf, 'breed', 'Other', 10))\n",
    "top_k_other_breeds.head(10)"
   ]
  },
  {
   "cell_type": "markdown",
   "metadata": {},
   "source": [
    "Most of the other animals are bats, raccoons, rabbits, opoussums and guinea pigs. Other types of breeds are less than 150 samples, and so I've decided to keep all instances that have above than 150 samples in the dataset as-is, and any other breed will be replaced with a default value:"
   ]
  },
  {
   "cell_type": "code",
   "execution_count": 113,
   "metadata": {},
   "outputs": [],
   "source": [
    "dtf = set_top_k_breeds(dtf, 'Other', 5)\n",
    "\n",
    "# Identify rows where 'breed' is 'Rabbit Sh' and change the value to 'Rabbit'\n",
    "dtf.loc[dtf['breed'] == 'Rabbit Sh', 'breed'] = 'Rabbit'"
   ]
  },
  {
   "cell_type": "markdown",
   "metadata": {},
   "source": [
    "***"
   ]
  },
  {
   "cell_type": "code",
   "execution_count": 114,
   "metadata": {},
   "outputs": [
    {
     "data": {
      "text/html": [
       "<div>\n",
       "<style scoped>\n",
       "    .dataframe tbody tr th:only-of-type {\n",
       "        vertical-align: middle;\n",
       "    }\n",
       "\n",
       "    .dataframe tbody tr th {\n",
       "        vertical-align: top;\n",
       "    }\n",
       "\n",
       "    .dataframe thead th {\n",
       "        text-align: right;\n",
       "    }\n",
       "</style>\n",
       "<table border=\"1\" class=\"dataframe\">\n",
       "  <thead>\n",
       "    <tr style=\"text-align: right;\">\n",
       "      <th></th>\n",
       "      <th>age_upon_outcome</th>\n",
       "      <th>animal_id</th>\n",
       "      <th>animal_type</th>\n",
       "      <th>breed</th>\n",
       "      <th>mixed_breed</th>\n",
       "      <th>color1</th>\n",
       "      <th>color2</th>\n",
       "      <th>outcome_year</th>\n",
       "      <th>outcome_month</th>\n",
       "      <th>outcome_date</th>\n",
       "      <th>outcome_weekday</th>\n",
       "      <th>outcome_hour</th>\n",
       "      <th>is_named</th>\n",
       "      <th>outcome_subtype</th>\n",
       "      <th>outcome_type</th>\n",
       "      <th>sex</th>\n",
       "      <th>spayed_neutered</th>\n",
       "    </tr>\n",
       "  </thead>\n",
       "  <tbody>\n",
       "    <tr>\n",
       "      <th>0</th>\n",
       "      <td>0.038462</td>\n",
       "      <td>A684346</td>\n",
       "      <td>Cat</td>\n",
       "      <td>Domestic Shorthair</td>\n",
       "      <td>Yes</td>\n",
       "      <td>Orange Tabby</td>\n",
       "      <td>No Color</td>\n",
       "      <td>2014</td>\n",
       "      <td>7</td>\n",
       "      <td>31</td>\n",
       "      <td>1</td>\n",
       "      <td>16</td>\n",
       "      <td>No</td>\n",
       "      <td>Partner</td>\n",
       "      <td>Transfer</td>\n",
       "      <td>Male</td>\n",
       "      <td>No</td>\n",
       "    </tr>\n",
       "    <tr>\n",
       "      <th>1</th>\n",
       "      <td>1.000000</td>\n",
       "      <td>A666430</td>\n",
       "      <td>Dog</td>\n",
       "      <td>Other breed</td>\n",
       "      <td>Yes</td>\n",
       "      <td>Brown</td>\n",
       "      <td>White</td>\n",
       "      <td>2013</td>\n",
       "      <td>11</td>\n",
       "      <td>30</td>\n",
       "      <td>3</td>\n",
       "      <td>11</td>\n",
       "      <td>Yes</td>\n",
       "      <td>Partner</td>\n",
       "      <td>Transfer</td>\n",
       "      <td>Female</td>\n",
       "      <td>Yes</td>\n",
       "    </tr>\n",
       "    <tr>\n",
       "      <th>2</th>\n",
       "      <td>1.000000</td>\n",
       "      <td>A675708</td>\n",
       "      <td>Dog</td>\n",
       "      <td>Pit Bull</td>\n",
       "      <td>No</td>\n",
       "      <td>Blue</td>\n",
       "      <td>White</td>\n",
       "      <td>2014</td>\n",
       "      <td>6</td>\n",
       "      <td>30</td>\n",
       "      <td>1</td>\n",
       "      <td>14</td>\n",
       "      <td>Yes</td>\n",
       "      <td>Unknown</td>\n",
       "      <td>Adoption</td>\n",
       "      <td>Male</td>\n",
       "      <td>Yes</td>\n",
       "    </tr>\n",
       "    <tr>\n",
       "      <th>3</th>\n",
       "      <td>9.000000</td>\n",
       "      <td>A680386</td>\n",
       "      <td>Dog</td>\n",
       "      <td>Other breed</td>\n",
       "      <td>Yes</td>\n",
       "      <td>White</td>\n",
       "      <td>No Color</td>\n",
       "      <td>2014</td>\n",
       "      <td>6</td>\n",
       "      <td>30</td>\n",
       "      <td>6</td>\n",
       "      <td>15</td>\n",
       "      <td>Yes</td>\n",
       "      <td>Partner</td>\n",
       "      <td>Transfer</td>\n",
       "      <td>Male</td>\n",
       "      <td>Yes</td>\n",
       "    </tr>\n",
       "    <tr>\n",
       "      <th>4</th>\n",
       "      <td>0.416667</td>\n",
       "      <td>A683115</td>\n",
       "      <td>Other</td>\n",
       "      <td>Bat</td>\n",
       "      <td>Yes</td>\n",
       "      <td>Brown</td>\n",
       "      <td>No Color</td>\n",
       "      <td>2014</td>\n",
       "      <td>7</td>\n",
       "      <td>31</td>\n",
       "      <td>0</td>\n",
       "      <td>14</td>\n",
       "      <td>No</td>\n",
       "      <td>Rabies Risk</td>\n",
       "      <td>Euthanasia</td>\n",
       "      <td>Unknown</td>\n",
       "      <td>Unknown</td>\n",
       "    </tr>\n",
       "  </tbody>\n",
       "</table>\n",
       "</div>"
      ],
      "text/plain": [
       "   age_upon_outcome animal_id animal_type               breed mixed_breed  \\\n",
       "0          0.038462   A684346         Cat  Domestic Shorthair         Yes   \n",
       "1          1.000000   A666430         Dog         Other breed         Yes   \n",
       "2          1.000000   A675708         Dog            Pit Bull          No   \n",
       "3          9.000000   A680386         Dog         Other breed         Yes   \n",
       "4          0.416667   A683115       Other                 Bat         Yes   \n",
       "\n",
       "         color1    color2  outcome_year  outcome_month  outcome_date  \\\n",
       "0  Orange Tabby  No Color          2014              7            31   \n",
       "1         Brown     White          2013             11            30   \n",
       "2          Blue     White          2014              6            30   \n",
       "3         White  No Color          2014              6            30   \n",
       "4         Brown  No Color          2014              7            31   \n",
       "\n",
       "   outcome_weekday  outcome_hour is_named outcome_subtype outcome_type  \\\n",
       "0                1            16       No         Partner     Transfer   \n",
       "1                3            11      Yes         Partner     Transfer   \n",
       "2                1            14      Yes         Unknown     Adoption   \n",
       "3                6            15      Yes         Partner     Transfer   \n",
       "4                0            14       No     Rabies Risk   Euthanasia   \n",
       "\n",
       "       sex spayed_neutered  \n",
       "0     Male              No  \n",
       "1   Female             Yes  \n",
       "2     Male             Yes  \n",
       "3     Male             Yes  \n",
       "4  Unknown         Unknown  "
      ]
     },
     "execution_count": 114,
     "metadata": {},
     "output_type": "execute_result"
    }
   ],
   "source": [
    "dtf.head()"
   ]
  },
  {
   "cell_type": "markdown",
   "metadata": {},
   "source": [
    "***"
   ]
  },
  {
   "cell_type": "markdown",
   "metadata": {},
   "source": [
    "## Goodness Of Fit"
   ]
  },
  {
   "cell_type": "markdown",
   "metadata": {},
   "source": [
    "### Chi-Squared Test for Feature Selection"
   ]
  },
  {
   "cell_type": "code",
   "execution_count": 115,
   "metadata": {},
   "outputs": [],
   "source": [
    "# Columns for analysis\n",
    "columns_of_interest = ['age_upon_outcome', 'animal_type', 'breed', 'mixed_breed', 'color1', 'color2',\n",
    "                    'outcome_year', 'outcome_month', 'outcome_date', 'outcome_weekday', 'outcome_hour',\n",
    "                    'is_named', 'outcome_subtype', 'sex', 'spayed_neutered']"
   ]
  },
  {
   "cell_type": "code",
   "execution_count": 116,
   "metadata": {},
   "outputs": [],
   "source": [
    "# Create a list to store the results\n",
    "chi_results = []\n",
    "\n",
    "# Loop through each column and perform chi-square test\n",
    "for column in columns_of_interest:\n",
    "    contingency_table = pd.crosstab(dtf[column], dtf['outcome_type'])\n",
    "    chi2, p, _, _ = chi2_contingency(contingency_table)\n",
    "    chi_results.append({'column' : column, 'score' : chi2, 'p_val' : p})"
   ]
  },
  {
   "cell_type": "code",
   "execution_count": 117,
   "metadata": {},
   "outputs": [
    {
     "data": {
      "text/html": [
       "<div>\n",
       "<style scoped>\n",
       "    .dataframe tbody tr th:only-of-type {\n",
       "        vertical-align: middle;\n",
       "    }\n",
       "\n",
       "    .dataframe tbody tr th {\n",
       "        vertical-align: top;\n",
       "    }\n",
       "\n",
       "    .dataframe thead th {\n",
       "        text-align: right;\n",
       "    }\n",
       "</style>\n",
       "<table border=\"1\" class=\"dataframe\">\n",
       "  <thead>\n",
       "    <tr style=\"text-align: right;\">\n",
       "      <th></th>\n",
       "      <th>column</th>\n",
       "      <th>score</th>\n",
       "      <th>p_val</th>\n",
       "    </tr>\n",
       "  </thead>\n",
       "  <tbody>\n",
       "    <tr>\n",
       "      <th>8</th>\n",
       "      <td>outcome_date</td>\n",
       "      <td>233.537489</td>\n",
       "      <td>2.958542e-45</td>\n",
       "    </tr>\n",
       "    <tr>\n",
       "      <th>6</th>\n",
       "      <td>outcome_year</td>\n",
       "      <td>718.212960</td>\n",
       "      <td>2.436498e-143</td>\n",
       "    </tr>\n",
       "    <tr>\n",
       "      <th>3</th>\n",
       "      <td>mixed_breed</td>\n",
       "      <td>992.785104</td>\n",
       "      <td>6.610866e-215</td>\n",
       "    </tr>\n",
       "    <tr>\n",
       "      <th>0</th>\n",
       "      <td>age_upon_outcome</td>\n",
       "      <td>26984.718729</td>\n",
       "      <td>0.000000e+00</td>\n",
       "    </tr>\n",
       "    <tr>\n",
       "      <th>1</th>\n",
       "      <td>animal_type</td>\n",
       "      <td>38563.415110</td>\n",
       "      <td>0.000000e+00</td>\n",
       "    </tr>\n",
       "    <tr>\n",
       "      <th>2</th>\n",
       "      <td>breed</td>\n",
       "      <td>45170.297127</td>\n",
       "      <td>0.000000e+00</td>\n",
       "    </tr>\n",
       "    <tr>\n",
       "      <th>4</th>\n",
       "      <td>color1</td>\n",
       "      <td>10506.659180</td>\n",
       "      <td>0.000000e+00</td>\n",
       "    </tr>\n",
       "    <tr>\n",
       "      <th>5</th>\n",
       "      <td>color2</td>\n",
       "      <td>5909.325397</td>\n",
       "      <td>0.000000e+00</td>\n",
       "    </tr>\n",
       "    <tr>\n",
       "      <th>7</th>\n",
       "      <td>outcome_month</td>\n",
       "      <td>1824.259798</td>\n",
       "      <td>0.000000e+00</td>\n",
       "    </tr>\n",
       "    <tr>\n",
       "      <th>9</th>\n",
       "      <td>outcome_weekday</td>\n",
       "      <td>2582.196131</td>\n",
       "      <td>0.000000e+00</td>\n",
       "    </tr>\n",
       "    <tr>\n",
       "      <th>10</th>\n",
       "      <td>outcome_hour</td>\n",
       "      <td>17698.517884</td>\n",
       "      <td>0.000000e+00</td>\n",
       "    </tr>\n",
       "    <tr>\n",
       "      <th>11</th>\n",
       "      <td>is_named</td>\n",
       "      <td>20829.170787</td>\n",
       "      <td>0.000000e+00</td>\n",
       "    </tr>\n",
       "    <tr>\n",
       "      <th>12</th>\n",
       "      <td>outcome_subtype</td>\n",
       "      <td>149925.277816</td>\n",
       "      <td>0.000000e+00</td>\n",
       "    </tr>\n",
       "    <tr>\n",
       "      <th>13</th>\n",
       "      <td>sex</td>\n",
       "      <td>23167.868909</td>\n",
       "      <td>0.000000e+00</td>\n",
       "    </tr>\n",
       "    <tr>\n",
       "      <th>14</th>\n",
       "      <td>spayed_neutered</td>\n",
       "      <td>42894.745838</td>\n",
       "      <td>0.000000e+00</td>\n",
       "    </tr>\n",
       "  </tbody>\n",
       "</table>\n",
       "</div>"
      ],
      "text/plain": [
       "              column          score          p_val\n",
       "8       outcome_date     233.537489   2.958542e-45\n",
       "6       outcome_year     718.212960  2.436498e-143\n",
       "3        mixed_breed     992.785104  6.610866e-215\n",
       "0   age_upon_outcome   26984.718729   0.000000e+00\n",
       "1        animal_type   38563.415110   0.000000e+00\n",
       "2              breed   45170.297127   0.000000e+00\n",
       "4             color1   10506.659180   0.000000e+00\n",
       "5             color2    5909.325397   0.000000e+00\n",
       "7      outcome_month    1824.259798   0.000000e+00\n",
       "9    outcome_weekday    2582.196131   0.000000e+00\n",
       "10      outcome_hour   17698.517884   0.000000e+00\n",
       "11          is_named   20829.170787   0.000000e+00\n",
       "12   outcome_subtype  149925.277816   0.000000e+00\n",
       "13               sex   23167.868909   0.000000e+00\n",
       "14   spayed_neutered   42894.745838   0.000000e+00"
      ]
     },
     "execution_count": 117,
     "metadata": {},
     "output_type": "execute_result"
    }
   ],
   "source": [
    "chi_df = pd.DataFrame(chi_results).sort_values('p_val', ascending=False)\n",
    "chi_df.head(15)"
   ]
  },
  {
   "cell_type": "markdown",
   "metadata": {},
   "source": [
    "It looks like all of the columns have extremely low p-values, indicating that there is strong evidence to reject the null hypothesis that there is no association between each of these columns and the outcome_type. In other words, the values in each column are not distributed randomly across different outcome types; instead, they are related to or influenced by the outcome type of the animal. This association indicates that each column contains information that can help predict or explain the outcome type of animal outcomes in the dataset. Therefore, these columns are potentially important predictors or factors influencing the outcome type."
   ]
  },
  {
   "cell_type": "markdown",
   "metadata": {},
   "source": [
    "***"
   ]
  },
  {
   "cell_type": "markdown",
   "metadata": {},
   "source": [
    "### Examining Correlations to the target feature"
   ]
  },
  {
   "cell_type": "code",
   "execution_count": 118,
   "metadata": {},
   "outputs": [],
   "source": [
    "# Defining columns to encode\n",
    "columns_to_encode = ['outcome_type', 'animal_type', 'mixed_breed', 'is_named', 'sex', 'spayed_neutered']\n",
    "\n",
    "# Encoding columns using one-hot encoding\n",
    "dtf_encoded = pd.get_dummies(dtf, columns=columns_to_encode, prefix=columns_to_encode)\n",
    "\n",
    "# Defining outcome type columns\n",
    "outcome_type_columns = [col for col in dtf_encoded.columns if 'outcome_type' in col]"
   ]
  },
  {
   "cell_type": "code",
   "execution_count": 119,
   "metadata": {},
   "outputs": [
    {
     "data": {
      "image/png": "[encoded data removed]",
      "text/plain": [
       "<Figure size 1440x1080 with 2 Axes>"
      ]
     },
     "metadata": {
      "needs_background": "light"
     },
     "output_type": "display_data"
    }
   ],
   "source": [
    "# Computing the correlation matrix\n",
    "dtf_corr = dtf_encoded.corr(method=\"pearson\")\n",
    "\n",
    "# Plotting the heatmap\n",
    "plt.subplots(figsize=(20,15))\n",
    "sns.heatmap(dtf_corr, vmin=-1, vmax=1, annot=True, fmt='.2f', cmap=\"PiYG\", cbar=True, linewidths=0.5)\n",
    "plt.title('Heatmap of Correlation between Outcome Type Columns and Other Columns')\n",
    "plt.show()"
   ]
  },
  {
   "cell_type": "markdown",
   "metadata": {},
   "source": [
    "We can see that columns like 'outcome_date', 'outcome_month' and 'outcome_year' have little impact on the target features ('outcome_type_Adoption/Euthanasia/Return to Owner/Transfer'), and may not add new insights predicting it. They do have some correlations with each other though (respectively). For instance, there is a correlation of -0.26 between 'outcome_year' and 'outcome_month' (which does makes sense)."
   ]
  },
  {
   "cell_type": "markdown",
   "metadata": {},
   "source": [
    "-----------------add more comments."
   ]
  },
  {
   "cell_type": "markdown",
   "metadata": {},
   "source": [
    "Comparing to 'outcome_subtype' column:"
   ]
  },
  {
   "cell_type": "code",
   "execution_count": 120,
   "metadata": {},
   "outputs": [],
   "source": [
    "# Defining columns to encode\n",
    "columns_to_encode = ['outcome_type', 'outcome_subtype']\n",
    "\n",
    "# Encoding columns using one-hot encoding\n",
    "dtf_encoded_outcome = pd.get_dummies(dtf, columns=columns_to_encode, prefix=columns_to_encode)\n",
    "\n",
    "# Defining outcome type columns and outcome subtype columns\n",
    "outcome_type_columns = [col for col in dtf_encoded_outcome.columns if 'outcome_type' in col]\n",
    "outcome_subtype_columns = [col for col in dtf_encoded_outcome.columns if 'outcome_subtype' in col]"
   ]
  },
  {
   "cell_type": "code",
   "execution_count": 121,
   "metadata": {},
   "outputs": [
    {
     "data": {
      "image/png": "[encoded data removed]",
      "text/plain": [
       "<Figure size 1440x504 with 2 Axes>"
      ]
     },
     "metadata": {
      "needs_background": "light"
     },
     "output_type": "display_data"
    }
   ],
   "source": [
    "# Computing the correlation matrix\n",
    "dtf_corr = dtf_encoded_outcome[outcome_type_columns + outcome_subtype_columns].corr(method=\"pearson\")\n",
    "\n",
    "# Plotting the heatmap\n",
    "plt.subplots(figsize=(20, 7))\n",
    "sns.heatmap(dtf_corr.loc[outcome_type_columns, outcome_subtype_columns], vmin=-1, vmax=1, annot=True,\n",
    "        cmap='PiYG', fmt=\".2f\")\n",
    "plt.title('Heatmap of Correlation between Outcome Type Columns and Other Columns')\n",
    "plt.tight_layout()\n",
    "plt.show()"
   ]
  },
  {
   "cell_type": "markdown",
   "metadata": {},
   "source": [
    "There is a strong association between 'outcome_subtype_Partner' and 'outcome_type_Transfer', evidenced by a correlation coefficient of 0.83. This suggests that many instances with the outcome type of transfer, predominantly involving cats, have an outcome subtype of partner, indicating a transfer to a partnering shelter. Also, animals associated with 'outcome_subtype_Partner' are less likely to get adopted, as indicated by a correlation of -0.47 with 'outcome_type_Adoption'.\n",
    "\n",
    "Additionally, animals identified with 'outcome_subtype_Rabies Risk' or 'outcome_subtype_Suffering' demonstrate a higher likelihood of euthanasia, with correlation coefficients of 0.65 and 0.64, respectively, with 'outcome_type_Euthanasia'.\n",
    "\n",
    "Moreover, animals categorized with 'outcome_subtype_Unknown' are less inclined to be transferred (correlation of -0.69 with 'outcome_type_Transfer') or euthanized (correlation of -0.29 with 'outcome_type_Euthanasia'). Instead, they show potential for being returned to their owners (correlation of 0.41 with 'outcome_type_Return to Owner') or adopted (correlation of 0.47 with 'outcome_type_Adoption')."
   ]
  },
  {
   "cell_type": "markdown",
   "metadata": {},
   "source": [
    "***"
   ]
  },
  {
   "cell_type": "markdown",
   "metadata": {},
   "source": [
    "## Improved ML Model"
   ]
  },
  {
   "cell_type": "markdown",
   "metadata": {},
   "source": [
    "### Training the model and predicting"
   ]
  },
  {
   "cell_type": "code",
   "execution_count": 122,
   "metadata": {},
   "outputs": [],
   "source": [
    "# Dropping 'animal_id' column from the dataframe\n",
    "dtf_model = dtf.drop('animal_id', axis=1)\n",
    "\n",
    "# Converting all columns to the category data type\n",
    "dtf_model = dtf_model.astype('category')"
   ]
  },
  {
   "cell_type": "code",
   "execution_count": 124,
   "metadata": {},
   "outputs": [],
   "source": [
    "# Columns for one-hot encoding\n",
    "columns_for_one_hot = ['animal_type', 'breed', 'mixed_breed', 'color1', 'color2', 'is_named', 'outcome_subtype',\n",
    "                    'outcome_type', 'sex', 'spayed_neutered']\n",
    "\n",
    "# One-hot encoding\n",
    "encoded_data = pd.get_dummies(dtf_model[columns_for_one_hot])\n",
    "\n",
    "# Getting all the target columns (columns that include 'outcome_type' in their name)\n",
    "outcome_type_columns = [col for col in encoded_data.columns if 'outcome_type' in col]"
   ]
  },
  {
   "cell_type": "code",
   "execution_count": 125,
   "metadata": {},
   "outputs": [],
   "source": [
    "# Initialize StandardScaler object for feature scaling\n",
    "scaler = StandardScaler()\n",
    "\n",
    "# Initialize lists to store accuracy scores\n",
    "validation_accuracies = []\n",
    "test_accuracies = []\n",
    "\n",
    "# Initialize an empty dictionary to store feature importances\n",
    "feature_importances = {}"
   ]
  },
  {
   "cell_type": "markdown",
   "metadata": {},
   "source": [
    "<font color='#f542b0'>---------------takes 1.5 minutes. Add a skip option.</font>"
   ]
  },
  {
   "cell_type": "code",
   "execution_count": 126,
   "metadata": {},
   "outputs": [
    {
     "name": "stdout",
     "output_type": "stream",
     "text": [
      "Validation Accuracy for outcome_type_Adoption: 0.8298988621997472\n",
      "Test Accuracy for outcome_type_Adoption: 0.8333754740834387\n",
      "\n",
      "Validation Accuracy for outcome_type_Euthanasia: 0.9963337547408344\n",
      "Test Accuracy for outcome_type_Euthanasia: 0.9967762326169406\n",
      "\n",
      "Validation Accuracy for outcome_type_Return to Owner: 0.8412136536030341\n",
      "Test Accuracy for outcome_type_Return to Owner: 0.8398230088495575\n",
      "\n",
      "Validation Accuracy for outcome_type_Transfer: 0.9808470290771176\n",
      "Test Accuracy for outcome_type_Transfer: 0.9789506953223768\n",
      "\n"
     ]
    }
   ],
   "source": [
    "for outcome_column in outcome_type_columns:\n",
    "    # Prepare the data\n",
    "    X = encoded_data.drop(outcome_type_columns, axis=1)\n",
    "    y = encoded_data[outcome_column]\n",
    "\n",
    "    # Initialize the model\n",
    "    model = AdaBoostClassifier(n_estimators=250)\n",
    "\n",
    "    validation_accuracies, test_accuracies, model, feature_importances = fit_and_predict(outcome_column,\n",
    "                            X, y, validation_accuracies, test_accuracies, scaler, model, feature_importances)"
   ]
  },
  {
   "cell_type": "markdown",
   "metadata": {},
   "source": [
    "### Evaluating the model"
   ]
  },
  {
   "cell_type": "code",
   "execution_count": 127,
   "metadata": {},
   "outputs": [
    {
     "name": "stdout",
     "output_type": "stream",
     "text": [
      "Average Validation Accuracy: 0.9120733249051833\n",
      "Average Test Accuracy: 0.9122313527180784\n"
     ]
    }
   ],
   "source": [
    "# Calculate average validation accuracy\n",
    "avg_val_accuracy = np.mean(validation_accuracies)\n",
    "print(f\"Average Validation Accuracy: {avg_val_accuracy}\")\n",
    "\n",
    "# Calculate average test accuracy\n",
    "avg_test_accuracy = np.mean(test_accuracies)\n",
    "print(f\"Average Test Accuracy: {avg_test_accuracy}\")"
   ]
  },
  {
   "cell_type": "code",
   "execution_count": 128,
   "metadata": {},
   "outputs": [],
   "source": [
    "# Define the number of top features to display\n",
    "top_n_features = 15\n",
    "\n",
    "# Calculate average feature importances across all outcome types\n",
    "avg_feature_importances = np.mean([importances for importances in feature_importances.values()], axis=0)\n",
    "\n",
    "# Sort and get the indices of top N most important features\n",
    "top_feature_indices = avg_feature_importances.argsort()[-top_n_features:][::-1]"
   ]
  },
  {
   "cell_type": "code",
   "execution_count": 129,
   "metadata": {},
   "outputs": [
    {
     "name": "stdout",
     "output_type": "stream",
     "text": [
      "Top 15 most important features:\n",
      "\n",
      "breed_Domestic Shorthair: 0.16999999999999998\n",
      "animal_type_Cat: 0.167\n",
      "breed_Domestic Mediumhair: 0.059\n",
      "breed_Domestic Longhair: 0.05499999999999999\n",
      "breed_Siamese: 0.040999999999999995\n",
      "animal_type_Other: 0.027\n",
      "color1_Other color: 0.017\n",
      "outcome_subtype_Unknown: 0.015000000000000001\n",
      "outcome_subtype_Aggressive: 0.015\n",
      "breed_Pit Bull: 0.013999999999999999\n",
      "color1_Tricolor: 0.013000000000000001\n",
      "breed_Labrador Retriever: 0.012\n",
      "breed_Rabbit: 0.012\n",
      "spayed_neutered_Yes: 0.012\n",
      "outcome_subtype_Rabies Risk: 0.012\n"
     ]
    }
   ],
   "source": [
    "# Print top N most important features\n",
    "print(f\"Top {top_n_features} most important features:\\n\")\n",
    "\n",
    "for index in top_feature_indices:\n",
    "    print(f\"{X.columns[index]}: {avg_feature_importances[index]}\")"
   ]
  },
  {
   "cell_type": "code",
   "execution_count": 130,
   "metadata": {},
   "outputs": [
    {
     "data": {
      "image/png": "[encoded data removed]",
      "text/plain": [
       "<Figure size 1080x360 with 1 Axes>"
      ]
     },
     "metadata": {},
     "output_type": "display_data"
    }
   ],
   "source": [
    "# Create a DataFrame with feature importances\n",
    "importances_df = pd.DataFrame({'importance': avg_feature_importances[top_feature_indices],\n",
    "                               'feature': np.array(encoded_data.columns)[top_feature_indices]})\n",
    "\n",
    "# Set seaborn font scale\n",
    "sns.set(font_scale=1.50)\n",
    "\n",
    "# Create a bar plot of top N most important features\n",
    "plt.figure(figsize=(15, 5))\n",
    "sns.barplot(x='feature', y='importance', data=importances_df)\n",
    "plt.xticks(rotation=90)\n",
    "plt.xlabel('Feature', labelpad=25)\n",
    "plt.ylabel('Importance', labelpad=25)\n",
    "plt.title(f'Top {top_n_features} Most Important Features')\n",
    "plt.show()"
   ]
  }
 ],
 "metadata": {
  "kernelspec": {
   "display_name": "Python 3.6.9 64-bit",
   "language": "python",
   "name": "python3"
  },
  "language_info": {
   "codemirror_mode": {
    "name": "ipython",
    "version": 3
   },
   "file_extension": ".py",
   "mimetype": "text/x-python",
   "name": "python",
   "nbconvert_exporter": "python",
   "pygments_lexer": "ipython3",
   "version": "3.6.9"
  },
  "orig_nbformat": 4,
  "vscode": {
   "interpreter": {
    "hash": "31f2aee4e71d21fbe5cf8b01ff0e069b9275f58929596ceb00d14d90e3e16cd6"
   }
  }
 },
 "nbformat": 4,
 "nbformat_minor": 2
}
